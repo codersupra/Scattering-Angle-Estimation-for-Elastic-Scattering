{
  "cells": [
    {
      "cell_type": "code",
      "execution_count": null,
      "metadata": {
        "id": "tf-1bHPiHcdy"
      },
      "outputs": [],
      "source": [
        "!pip install qiskit"
      ]
    },
    {
      "cell_type": "code",
      "execution_count": null,
      "metadata": {
        "id": "7lqwgG2mo46x"
      },
      "outputs": [],
      "source": [
        "!pip install qiskit['visualization']\n",
        "!pip install pylatexenc\n",
        "!pip install qiskit-aer\n",
        "!pip install qiskit_ibm_runtime\n",
        "!pip install numpy\n",
        "!pip install matplotlib\n",
        "!pip install scipy\n",
        "# !pip install qiskit-ib"
      ]
    },
    {
      "cell_type": "code",
      "execution_count": null,
      "metadata": {
        "id": "OpN5VbCSHcd1"
      },
      "outputs": [],
      "source": [
        "from qiskit import QuantumCircuit\n",
        "\n",
        "qc = QuantumCircuit(2)\n",
        "qc.h(0)\n",
        "qc.cx(0,1)\n",
        "\n",
        "qc.draw('mpl')"
      ]
    },
    {
      "cell_type": "code",
      "execution_count": null,
      "metadata": {
        "id": "hJ2pml51vKZg"
      },
      "outputs": [],
      "source": [
        "from qiskit_ibm_runtime import QiskitRuntimeService\n",
        "service = QiskitRuntimeService(channel=\"ibm_quantum\",\n",
        "                                token =\"8f94da79454ec50dcf502a86cce6489a55dc1da429e7371e0fe805c885b67f228d9e7348d63d52fbdbbf3d6e0b78bb625d9f3caf333eefc74c484a00972fe183\")\n",
        "\n",
        "#QiskitRuntimeService.save_account(channel=\"ibm_quantum\",\n",
        "#                                  token=\"da13eebb1c9a9014b29f40b13f26675d59f8bbe98880605c33de602f3ea96939300176a2f9272b5f37e664650be49812a74a6e88b56f626b3e7e1e3dc946ced3\")"
      ]
    },
    {
      "cell_type": "code",
      "execution_count": null,
      "metadata": {
        "id": "xY_pTRJqva3M"
      },
      "outputs": [],
      "source": [
        "from qiskit_ibm_runtime import QiskitRuntimeService\n",
        "from qiskit import QuantumCircuit\n",
        "from qiskit.transpiler.preset_passmanagers import generate_preset_pass_manager\n",
        "from qiskit.quantum_info import SparsePauliOp"
      ]
    },
    {
      "cell_type": "markdown",
      "metadata": {
        "id": "DFGC-65wxWQC"
      },
      "source": [
        "### Encoding the problem\n",
        "\n",
        "\n",
        "Let the trail state be:\n",
        "\n",
        "$$ (1/2L)\\sum_{x1,x2} |x1,x2> $$"
      ]
    },
    {
      "cell_type": "code",
      "execution_count": null,
      "metadata": {
        "id": "Qw3mlX218U6k"
      },
      "outputs": [],
      "source": [
        "# Defing the Parameters:\n",
        "\n",
        "m = 940\n",
        "L = 5\n",
        "c = 0.8\n",
        "w = 5\n",
        "h = 1/ (2*m)"
      ]
    },
    {
      "cell_type": "code",
      "execution_count": null,
      "metadata": {
        "id": "N8ILF_y-x5Ef"
      },
      "outputs": [],
      "source": [
        "from qiskit import QuantumCircuit, QuantumRegister, ClassicalRegister\n",
        "\n",
        "L = 5\n",
        "num_qubits = 2 * L\n",
        "q = QuantumRegister(num_qubits, \"qreg\")\n",
        "#c = ClassicalRegister(num_qubits)\n",
        "trail_circuit = QuantumCircuit(q)\n",
        "\n",
        "for i in range(num_qubits):\n",
        "    trail_circuit.h(q[i])\n",
        "\n",
        "trail_circuit.draw('mpl')"
      ]
    },
    {
      "cell_type": "code",
      "execution_count": null,
      "metadata": {
        "colab": {
          "base_uri": "https://localhost:8080/",
          "height": 320
        },
        "id": "f1QHimBtMEZ3",
        "outputId": "482dd270-be96-4ca8-b513-7d6f4cd98c4f"
      },
      "outputs": [
        {
          "data": {
            "image/png": "[encoded data removed]",
            "text/plain": [
              "<Figure size 287.496x367.889 with 1 Axes>"
            ]
          },
          "execution_count": 69,
          "metadata": {},
          "output_type": "execute_result"
        }
      ],
      "source": []
    },
    {
      "cell_type": "code",
      "execution_count": null,
      "metadata": {
        "id": "WKfn86jpzzfN"
      },
      "outputs": [],
      "source": [
        "def Kinetic_Energy(L, circuit, m):\n",
        "    from qiskit.quantum_info import SparsePauliOp\n",
        "    from qiskit_ibm_runtime import EstimatorV2 as Estimator\n",
        "    from qiskit_ibm_runtime import QiskitRuntimeService\n",
        "    from qiskit_ibm_runtime import EstimatorOptions\n",
        "    from qiskit.transpiler.preset_passmanagers import generate_preset_pass_manager\n",
        "\n",
        "    # Adjust observables to ensure they span the correct number of qubits (2L)\n",
        "    observables_x = ['I'*i + 'X'*2 + 'I'*(2*L - i - 2) for i in range(2*L - 1)]\n",
        "    observables_y = ['I'*i + 'Y'*2 + 'I'*(2*L - i - 2) for i in range(2*L - 1)]\n",
        "    observables = observables_x + observables_y\n",
        "\n",
        "    operators = [SparsePauliOp(operator_string) for operator_string in observables]\n",
        "\n",
        "    # Choosing the backend\n",
        "    service = QiskitRuntimeService(channel ='ibm_quantum',\n",
        "                                   token='deletethisandenteryouribmtoken')\n",
        "    backend = service.backend(\"ibm_brisbane\")\n",
        "\n",
        "    # Transpilation\n",
        "    pass_Manager = generate_preset_pass_manager(backend=backend, optimization_level=2)\n",
        "    isa_circuit = pass_Manager.run(circuit)\n",
        "\n",
        "    operators_transpiled_layout = [op.apply_layout(isa_circuit.layout) for op in operators]\n",
        "\n",
        "    # Expectation Value\n",
        "    options = EstimatorOptions()\n",
        "    options.resilience_level = 1\n",
        "    options.dynamical_decoupling.enable = True\n",
        "    options.dynamical_decoupling.sequence_type = 'XY4'\n",
        "\n",
        "    estimator = Estimator(backend, options)\n",
        "    job = estimator.run([(isa_circuit, operators_transpiled_layout)])\n",
        "    print(job.job_id())\n",
        "\n",
        "    result = job.result()[0]\n",
        "    values = result.data.evs\n",
        "    energy = sum(values)\n",
        "    h = 1/m\n",
        "    kinetic_energy = 4*h - (h/2)*energy\n",
        "    return kinetic_energy\n"
      ]
    },
    {
      "cell_type": "code",
      "execution_count": null,
      "metadata": {
        "id": "5P7m5y3PpHEL"
      },
      "outputs": [],
      "source": [
        "def Interaction_Energy(circuit, L, c):\n",
        "    from qiskit.quantum_info import SparsePauliOp\n",
        "    from qiskit_ibm_runtime import EstimatorV2 as Estimator\n",
        "    from qiskit_ibm_runtime import EstimatorOptions\n",
        "    from qiskit_ibm_runtime import QiskitRuntimeService\n",
        "    from qiskit.transpiler.preset_passmanagers import generate_preset_pass_manager\n",
        "\n",
        "    # Ensure L is an integer and c is a float or int\n",
        "    if not isinstance(L, int):\n",
        "        raise ValueError(\"L must be an integer representing the lattice size.\")\n",
        "    if not isinstance(c, (float, int)):\n",
        "        raise ValueError(\"c must be a number (float or int).\")\n",
        "\n",
        "    # Adjust observables to ensure they span the correct number of qubits (2L)\n",
        "    observables = ['I'*i + 'Z'*2 + 'I'*(2*L - i - 2) for i in range(2*L - 1)]\n",
        "    operators = [SparsePauliOp(operator_string) for operator_string in observables]\n",
        "\n",
        "    # Set up backend\n",
        "    service = QiskitRuntimeService(channel='ibm_quantum',\n",
        "                                   token='deletethisandenteryouribmtoken')\n",
        "    backend = service.backend(\"ibm_brisbane\")\n",
        "\n",
        "    # Transpilation\n",
        "    pass_Manager = generate_preset_pass_manager(backend=backend, optimization_level=2)\n",
        "    isa_circuit = pass_Manager.run(circuit)\n",
        "\n",
        "    # Apply transpiled layout to operators\n",
        "    operators_transpiled_layout = [op.apply_layout(isa_circuit.layout) for op in operators]\n",
        "\n",
        "    # Set up Estimator options\n",
        "    options = EstimatorOptions()\n",
        "    options.resilience_level = 1\n",
        "    options.dynamical_decoupling.enable = True\n",
        "    options.dynamical_decoupling.sequence_type = 'XY4'\n",
        "\n",
        "    # Create Estimator instance\n",
        "    estimator = Estimator(backend, options)\n",
        "\n",
        "    # Run the job\n",
        "    job = estimator.run([(isa_circuit, operators_transpiled_layout)])\n",
        "    print(job.job_id())\n",
        "\n",
        "    # Get the result\n",
        "    result = job.result()[0]\n",
        "    values = result.data.evs\n",
        "\n",
        "    # Calculate the interaction energy\n",
        "    energy = sum(values)\n",
        "    interaction_energy = (c / 4) * L + (c / 2) * energy\n",
        "    return interaction_energy\n"
      ]
    },
    {
      "cell_type": "code",
      "execution_count": null,
      "metadata": {
        "id": "QvKc7jDmh4WV"
      },
      "outputs": [],
      "source": [
        "# Mod Value:\n",
        "def mod(l, L):\n",
        "  return l % L\n",
        "def mod_value(l, L, c):\n",
        "  center = (L - 1) / 2  # Calculate the center of the lattice\n",
        "  pot_res =  (mod(l, L) - center) ** 2  # Compute the squared deviation\n",
        "  pot_en = pot_res - (c/2)\n",
        "  return pot_en"
      ]
    },
    {
      "cell_type": "code",
      "execution_count": null,
      "metadata": {
        "id": "tqI3pqfYCiFx"
      },
      "outputs": [],
      "source": [
        "def Potential_Energy(circuit, L, c, m, w):\n",
        "    from qiskit.quantum_info import SparsePauliOp\n",
        "    from qiskit_ibm_runtime import EstimatorV2 as Estimator\n",
        "    from qiskit_ibm_runtime import EstimatorOptions\n",
        "    from qiskit_ibm_runtime import QiskitRuntimeService\n",
        "    from qiskit.transpiler.preset_passmanagers import generate_preset_pass_manager\n",
        "\n",
        "    # Choose backend\n",
        "    service = QiskitRuntimeService(channel='ibm_quantum',\n",
        "                                   token='deletethisandenteryouribmtoken')\n",
        "    backend = service.backend(\"ibm_brisbane\")\n",
        "\n",
        "    # Observables construction (adjust to ensure they span the correct number of qubits)\n",
        "    observables = ['I'*i + 'Z' + 'I'*(2*L - i - 1) for i in range(2*L)]\n",
        "    operators = [SparsePauliOp(operator_string) for operator_string in observables]\n",
        "\n",
        "    # Transpilation\n",
        "    pass_Manager = generate_preset_pass_manager(backend=backend, optimization_level=2)\n",
        "    isa_circuit = pass_Manager.run(circuit)\n",
        "    operators_transpiled_layout = [op.apply_layout(isa_circuit.layout) for op in operators]\n",
        "\n",
        "    # Execution with Estimator\n",
        "    options = EstimatorOptions()\n",
        "    options.resilience_level = 1\n",
        "    options.dynamical_decoupling.enable = True\n",
        "    options.dynamical_decoupling.sequence_type = 'XY4'\n",
        "\n",
        "    estimator = Estimator(backend, options)\n",
        "    job = estimator.run([(isa_circuit, operators_transpiled_layout)])\n",
        "    print(job.job_id())\n",
        "\n",
        "    # Get result\n",
        "    result = job.result()[0]\n",
        "    values = result.data.evs\n",
        "\n",
        "    # Calculate energy\n",
        "    energy = sum(values)  # Ensure the result sum is done correctly\n",
        "\n",
        "    # Potential energy calculation\n",
        "    res_pot = ((m * w**2) * energy) / 4\n",
        "    potential_energy = (m * (w**2) * L * (L - 1) / 24) - res_pot\n",
        "\n",
        "    return potential_energy\n"
      ]
    },
    {
      "cell_type": "markdown",
      "metadata": {
        "id": "JCek2uU9t-ZC"
      },
      "source": [
        "### Defining the Ansatz"
      ]
    },
    {
      "cell_type": "code",
      "execution_count": null,
      "metadata": {
        "id": "lGEKltTPoBWJ"
      },
      "outputs": [],
      "source": []
    },
    {
      "cell_type": "code",
      "execution_count": null,
      "metadata": {
        "id": "pRDVSt9SHcd5"
      },
      "outputs": [],
      "source": [
        "# Define the ansatz function, updated for dynamic qubit size\n",
        "def ansatz(E_total, L, m, c):\n",
        "    try:\n",
        "        # Initialize classical wave function with uniform superposition\n",
        "        Psi = np.ones((L, L)) / np.sqrt(L * L)  # Uniform superposition\n",
        "\n",
        "        # Define the potential function for the lattice points\n",
        "        def potential(i1, i2, L, m, w, c):\n",
        "            V = 0.5 * m * w**2 * (i1**2 + i2**2)\n",
        "            if i1 == i2:  # Interaction term when particles are at the same site\n",
        "                V += c\n",
        "            return V\n",
        "\n",
        "        # Relaxation method to update wave function\n",
        "        def update_wave_function(Psi, L, h, m, w, c, E_total, iterations=1000, tolerance=1e-6):\n",
        "            for iteration in range(iterations):\n",
        "                Psi_new = np.zeros_like(Psi)  # New wave function after iteration\n",
        "                for i1 in range(1, L-1):  # Loop through lattice, avoiding boundary\n",
        "                    for i2 in range(1, L-1):\n",
        "                        # Compute nearest neighbors average\n",
        "                        Psi_avg = (Psi[i1+1, i2] + Psi[i1-1, i2] + Psi[i1, i2+1] + Psi[i1, i2-1]) / 4.0\n",
        "                        # Compute potential at the lattice point\n",
        "                        V_i1_i2 = potential(i1, i2, L, m, w, c)\n",
        "                        # Update the wave function using the relaxation method\n",
        "                        Psi_new[i1, i2] = (4 * h * Psi_avg) / (4 * h + (V_i1_i2 - E_total))\n",
        "\n",
        "                # Check for convergence\n",
        "                if np.max(np.abs(Psi_new - Psi)) < tolerance:\n",
        "                    print(f'Converged after {iteration+1} iterations.')\n",
        "                    break\n",
        "\n",
        "                Psi = Psi_new  # Update wave function for next iteration\n",
        "\n",
        "            return Psi_new\n",
        "\n",
        "        # Perform the relaxation method to get the converged wave function\n",
        "        Psi_converged = update_wave_function(Psi, L, h, m, w, c, E_total)\n",
        "\n",
        "        if Psi_converged is None:\n",
        "            raise ValueError(\"Wave function update failed, no valid Psi_converged.\")\n",
        "\n",
        "        # Normalize the classical wave function\n",
        "        norm_factor = np.linalg.norm(Psi_converged)\n",
        "        if norm_factor == 0:\n",
        "            raise ValueError(\"Normalization factor is zero, possible numerical instability.\")\n",
        "\n",
        "        Psi_normalized = Psi_converged.flatten() / norm_factor  # Flatten into a 1D array\n",
        "\n",
        "        # Calculate the number of qubits needed for the given lattice size\n",
        "        num_amplitudes = len(Psi_normalized)\n",
        "        #num_qubits = int(np.ceil(np.log2(num_amplitudes)))  # Number of qubits needed\n",
        "        num_qubits = 2*L\n",
        "        # Ensure state vector has the correct size (power of 2)\n",
        "        if len(Psi_normalized) < 2**num_qubits:\n",
        "            Psi_normalized = np.pad(Psi_normalized, (0, 2**num_qubits - len(Psi_normalized)), 'constant')\n",
        "\n",
        "        # Create a quantum circuit with the required number of qubits\n",
        "        qc = QuantumCircuit(num_qubits)\n",
        "\n",
        "        # Initialize the quantum state with the normalized wave function\n",
        "        state_vector = Statevector(Psi_normalized)\n",
        "\n",
        "        # Update here: Initialize the quantum circuit with the correct number of qubits\n",
        "        if len(state_vector) == 2**num_qubits:\n",
        "            qc.initialize(state_vector, range(num_qubits))\n",
        "        else:\n",
        "            raise ValueError(f\"Statevector length {len(state_vector)} does not match 2**{num_qubits} qubits\")\n",
        "\n",
        "        return qc\n",
        "\n",
        "    except Exception as e:\n",
        "        print(f\"Error in ansatz function: {e}\")\n",
        "        return None\n"
      ]
    },
    {
      "cell_type": "code",
      "execution_count": null,
      "metadata": {
        "id": "8D6Q_SLo6kgL"
      },
      "outputs": [],
      "source": [
        "# Initial Guess\n",
        "\n",
        "params = []\n",
        "initial_energy = Kinetic_Energy(L, trail_circuit, m) + Interaction_Energy(trail_circuit, L, c) + Potential_Energy(trail_circuit, L, c, m, w)\n",
        "params.append(initial_energy)\n",
        "print(initial_energy)"
      ]
    },
    {
      "cell_type": "code",
      "execution_count": null,
      "metadata": {
        "id": "Nbq0-VuMAtPf"
      },
      "outputs": [],
      "source": [
        "def cost_func(params, ansatz, L, m, c, estimator):\n",
        "    \"\"\"\n",
        "    Return the estimated energy and update the ansatz with the obtained energy.\n",
        "\n",
        "    Parameters:\n",
        "        params (ndarray): Array of ansatz parameters (first parameter is E_total).\n",
        "        ansatz (function): Ansatz function that generates a quantum circuit.\n",
        "        L (int): Lattice size.\n",
        "        m (float): Mass parameter.\n",
        "        c (float): Coupling constant.\n",
        "        estimator (Estimator): Estimator primitive instance.\n",
        "\n",
        "    Returns:\n",
        "        float: Energy estimate.\n",
        "    \"\"\"\n",
        "    # Step 1: Get the energy (E_total) from params and update the ansatz\n",
        "    E_total = params[0]  # First parameter is the E_total to update the ansatz\n",
        "    qc = ansatz(E_total, L, m, c)  # Generate the quantum circuit based on this E_total\n",
        "\n",
        "    # Step 2: Estimate the energy using the updated quantum circuit\n",
        "    energy = Kinetic_Energy(L, qc, m) + Interaction_Energy(qc, L, c) + Potential_Energy(qc, L, c, m, w)\n",
        "\n",
        "    # Step 3: Update E_total with the new energy (feedback loop)\n",
        "    params[0] = energy  # Update params with the new E_total value\n",
        "\n",
        "    # Step 4: Store cost history\n",
        "    cost_history_dict[\"iters\"] += 1\n",
        "    cost_history_dict[\"cost_history\"].append(energy)\n",
        "    print(f\"Iters. done: {cost_history_dict['iters']} [Current cost: {energy}]\")\n",
        "\n",
        "    return energy\n"
      ]
    },
    {
      "cell_type": "code",
      "execution_count": null,
      "metadata": {
        "id": "uwvQScL6uof_"
      },
      "outputs": [],
      "source": [
        "cost_history_dict = {\n",
        "    \"iters\": 0,\n",
        "    \"cost_history\": [],\n",
        "}"
      ]
    },
    {
      "cell_type": "code",
      "execution_count": null,
      "metadata": {
        "id": "ro3Ft9equsRc"
      },
      "outputs": [],
      "source": [
        "from scipy.optimize import minimize\n",
        "import numpy as np\n",
        "from qiskit_ibm_runtime import EstimatorV2 as Estimator\n",
        "from qiskit_ibm_runtime import Session, QiskitRuntimeService\n",
        "# Initial parameter (E_total as the first parameter)\n",
        "x0 = np.array([initial_energy])  # Initial guess for E_total (you can change this value)\n",
        "\n",
        "backend = service.backend('ibm_brisbane')\n",
        "\n",
        "with Session(service = service, backend=backend) as session:\n",
        "    estimator = Estimator(backend)\n",
        "    estimator.options.default_shots = 1000\n",
        "    # Run the optimization using COBYLA\n",
        "    result = minimize(\n",
        "        cost_func,\n",
        "        x0,\n",
        "        args=(ansatz, L, m, c, estimator),  # Pass ansatz and other args\n",
        "        method=\"COBYLA\"\n",
        "    )\n",
        "\n",
        "# The result will hold the optimized energy and wave function\n",
        "final_energy = result.fun  # The minimum energy found\n",
        "final_params = result.x  # Final values of the parameters (including the optimized E_total)\n"
      ]
    },
    {
      "cell_type": "code",
      "execution_count": null,
      "metadata": {
        "id": "gngiD_7U8FIW"
      },
      "outputs": [],
      "source": [
        "print(final_energy)"
      ]
    },
    {
      "cell_type": "markdown",
      "metadata": {
        "id": "qH7IC6Yn-JVH"
      },
      "source": [
        "Till now we have calculated E_total using the VQE"
      ]
    },
    {
      "cell_type": "code",
      "execution_count": null,
      "metadata": {
        "id": "_lsaU-1_RA8A"
      },
      "outputs": [],
      "source": [
        "mu = m/2"
      ]
    },
    {
      "cell_type": "code",
      "execution_count": null,
      "metadata": {
        "id": "U1RoTPhF-Qbq"
      },
      "outputs": [],
      "source": [
        "import numpy as np\n",
        "from scipy.special import gamma\n",
        "\n",
        "def calculate_relative_energy(E_total, omega):\n",
        "    # Center of mass energy\n",
        "    E_CM = 0.5 * omega  # Ground state energy of CM motion\n",
        "    # Relative energy\n",
        "    E_rel = E_total - E_CM\n",
        "    return E_rel\n",
        "\n",
        "def calculate_relative_momentum(E_rel, mu):\n",
        "    # Relative momentum p\n",
        "    p = np.sqrt(2 * mu * E_rel)\n",
        "    return p\n",
        "\n",
        "def busch_phase_shift(p, mu, omega):\n",
        "    # Compute p * cot(δ) using the Busch formula\n",
        "    term1 = gamma(0.25 - (p**2 / (4 * mu * omega)))\n",
        "    term2 = gamma(0.75 - (p**2 / (4 * mu * omega)))\n",
        "    p_cot_delta = (p**2 / (2 * mu * omega)) * (term1 / term2)\n",
        "    return p_cot_delta\n",
        "\n",
        "# Example parameters\n",
        "\n",
        "# Step 1: Calculate relative energy\n",
        "E_rel = calculate_relative_energy(final_energy, w)\n",
        "\n",
        "# Step 2: Calculate relative momentum\n",
        "p = calculate_relative_momentum(E_rel, mu)\n",
        "\n",
        "# Step 3: Calculate phase shift using Busch formula\n",
        "p_cot_delta = busch_phase_shift(p, mu, w)\n",
        "print(f\"p * cot(δ): {p_cot_delta}\")\n"
      ]
    },
    {
      "cell_type": "code",
      "execution_count": null,
      "metadata": {
        "id": "NmQxZpgxRZcS"
      },
      "outputs": [],
      "source": [
        "# Calculating Delta\n",
        "\n",
        "deltas = []\n",
        "delta = np.arctan(1 / (p_cot_delta / p))\n",
        "print(f\"Phase shift δ: {delta}\")\n",
        "\n",
        "deltas.append(delta)"
      ]
    }
  ],
  "metadata": {
    "colab": {
      "provenance": []
    },
    "kernelspec": {
      "display_name": "Python 3 (ipykernel)",
      "language": "python",
      "name": "python3"
    },
    "language_info": {
      "codemirror_mode": {
        "name": "ipython",
        "version": 3
      },
      "file_extension": ".py",
      "mimetype": "text/x-python",
      "name": "python",
      "nbconvert_exporter": "python",
      "pygments_lexer": "ipython3",
      "version": "3.11.10"
    }
  },
  "nbformat": 4,
  "nbformat_minor": 0
}