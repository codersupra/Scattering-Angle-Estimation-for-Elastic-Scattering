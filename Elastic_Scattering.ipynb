{
 "cells": [
  {
   "cell_type": "code",
   "execution_count": 2,
   "metadata": {},
   "outputs": [
    {
     "name": "stdout",
     "output_type": "stream",
     "text": [
      "Requirement already satisfied: qiskit in c:\\users\\suprajit\\anaconda3\\envs\\q_projects\\lib\\site-packages (1.2.4)\n",
      "Requirement already satisfied: rustworkx>=0.15.0 in c:\\users\\suprajit\\anaconda3\\envs\\q_projects\\lib\\site-packages (from qiskit) (0.15.1)\n",
      "Requirement already satisfied: numpy<3,>=1.17 in c:\\users\\suprajit\\appdata\\roaming\\python\\python311\\site-packages (from qiskit) (1.26.4)\n",
      "Requirement already satisfied: scipy>=1.5 in c:\\users\\suprajit\\appdata\\roaming\\python\\python311\\site-packages (from qiskit) (1.13.1)\n",
      "Requirement already satisfied: sympy>=1.3 in c:\\users\\suprajit\\anaconda3\\envs\\q_projects\\lib\\site-packages (from qiskit) (1.13.3)\n",
      "Requirement already satisfied: dill>=0.3 in c:\\users\\suprajit\\appdata\\roaming\\python\\python311\\site-packages (from qiskit) (0.3.8)\n",
      "Requirement already satisfied: python-dateutil>=2.8.0 in c:\\users\\suprajit\\anaconda3\\envs\\q_projects\\lib\\site-packages (from qiskit) (2.9.0.post0)\n",
      "Requirement already satisfied: stevedore>=3.0.0 in c:\\users\\suprajit\\appdata\\roaming\\python\\python311\\site-packages (from qiskit) (5.2.0)\n",
      "Requirement already satisfied: typing-extensions in c:\\users\\suprajit\\anaconda3\\envs\\q_projects\\lib\\site-packages (from qiskit) (4.11.0)\n",
      "Requirement already satisfied: symengine<0.14,>=0.11 in c:\\users\\suprajit\\appdata\\roaming\\python\\python311\\site-packages (from qiskit) (0.11.0)\n",
      "Requirement already satisfied: six>=1.5 in c:\\users\\suprajit\\anaconda3\\envs\\q_projects\\lib\\site-packages (from python-dateutil>=2.8.0->qiskit) (1.16.0)\n",
      "Requirement already satisfied: pbr!=2.1.0,>=2.0.0 in c:\\users\\suprajit\\appdata\\roaming\\python\\python311\\site-packages (from stevedore>=3.0.0->qiskit) (6.0.0)\n",
      "Requirement already satisfied: mpmath<1.4,>=1.1.0 in c:\\users\\suprajit\\appdata\\roaming\\python\\python311\\site-packages (from sympy>=1.3->qiskit) (1.3.0)\n"
     ]
    }
   ],
   "source": [
    "!pip install qiskit"
   ]
  },
  {
   "cell_type": "code",
   "execution_count": 1,
   "metadata": {
    "colab": {
     "base_uri": "https://localhost:8080/"
    },
    "id": "7lqwgG2mo46x",
    "outputId": "2f7bb048-0b1c-4dfa-da3b-d839c43555ed"
   },
   "outputs": [
    {
     "name": "stderr",
     "output_type": "stream",
     "text": [
      "ERROR: Exception:\n",
      "Traceback (most recent call last):\n",
      "  File \"C:\\Users\\Suprajit\\anaconda3\\envs\\Q_projects\\Lib\\site-packages\\pip\\_vendor\\packaging\\requirements.py\", line 36, in __init__\n",
      "    parsed = _parse_requirement(requirement_string)\n",
      "             ^^^^^^^^^^^^^^^^^^^^^^^^^^^^^^^^^^^^^^\n",
      "  File \"C:\\Users\\Suprajit\\anaconda3\\envs\\Q_projects\\Lib\\site-packages\\pip\\_vendor\\packaging\\_parser.py\", line 62, in parse_requirement\n",
      "    return _parse_requirement(Tokenizer(source, rules=DEFAULT_RULES))\n",
      "           ^^^^^^^^^^^^^^^^^^^^^^^^^^^^^^^^^^^^^^^^^^^^^^^^^^^^^^^^^^\n",
      "  File \"C:\\Users\\Suprajit\\anaconda3\\envs\\Q_projects\\Lib\\site-packages\\pip\\_vendor\\packaging\\_parser.py\", line 77, in _parse_requirement\n",
      "    extras = _parse_extras(tokenizer)\n",
      "             ^^^^^^^^^^^^^^^^^^^^^^^^\n",
      "  File \"C:\\Users\\Suprajit\\anaconda3\\envs\\Q_projects\\Lib\\site-packages\\pip\\_vendor\\packaging\\_parser.py\", line 164, in _parse_extras\n",
      "    with tokenizer.enclosing_tokens(\n",
      "  File \"C:\\Users\\Suprajit\\anaconda3\\envs\\Q_projects\\Lib\\contextlib.py\", line 144, in __exit__\n",
      "    next(self.gen)\n",
      "  File \"C:\\Users\\Suprajit\\anaconda3\\envs\\Q_projects\\Lib\\site-packages\\pip\\_vendor\\packaging\\_tokenizer.py\", line 189, in enclosing_tokens\n",
      "    self.raise_syntax_error(\n",
      "  File \"C:\\Users\\Suprajit\\anaconda3\\envs\\Q_projects\\Lib\\site-packages\\pip\\_vendor\\packaging\\_tokenizer.py\", line 167, in raise_syntax_error\n",
      "    raise ParserSyntaxError(\n",
      "pip._vendor.packaging._tokenizer.ParserSyntaxError: Expected matching RIGHT_BRACKET for LEFT_BRACKET, after extras\n",
      "    placeholder['visualization']\n",
      "               ~^\n",
      "\n",
      "The above exception was the direct cause of the following exception:\n",
      "\n",
      "Traceback (most recent call last):\n",
      "  File \"C:\\Users\\Suprajit\\anaconda3\\envs\\Q_projects\\Lib\\site-packages\\pip\\_internal\\cli\\base_command.py\", line 105, in _run_wrapper\n",
      "    status = _inner_run()\n",
      "             ^^^^^^^^^^^^\n",
      "  File \"C:\\Users\\Suprajit\\anaconda3\\envs\\Q_projects\\Lib\\site-packages\\pip\\_internal\\cli\\base_command.py\", line 96, in _inner_run\n",
      "    return self.run(options, args)\n",
      "           ^^^^^^^^^^^^^^^^^^^^^^^\n",
      "  File \"C:\\Users\\Suprajit\\anaconda3\\envs\\Q_projects\\Lib\\site-packages\\pip\\_internal\\cli\\req_command.py\", line 67, in wrapper\n",
      "    return func(self, options, args)\n",
      "           ^^^^^^^^^^^^^^^^^^^^^^^^^\n",
      "  File \"C:\\Users\\Suprajit\\anaconda3\\envs\\Q_projects\\Lib\\site-packages\\pip\\_internal\\commands\\install.py\", line 343, in run\n",
      "    reqs = self.get_requirements(args, options, finder, session)\n",
      "           ^^^^^^^^^^^^^^^^^^^^^^^^^^^^^^^^^^^^^^^^^^^^^^^^^^^^^\n",
      "  File \"C:\\Users\\Suprajit\\anaconda3\\envs\\Q_projects\\Lib\\site-packages\\pip\\_internal\\cli\\req_command.py\", line 233, in get_requirements\n",
      "    req_to_add = install_req_from_line(\n",
      "                 ^^^^^^^^^^^^^^^^^^^^^^\n",
      "  File \"C:\\Users\\Suprajit\\anaconda3\\envs\\Q_projects\\Lib\\site-packages\\pip\\_internal\\req\\constructors.py\", line 405, in install_req_from_line\n",
      "    parts = parse_req_from_line(name, line_source)\n",
      "            ^^^^^^^^^^^^^^^^^^^^^^^^^^^^^^^^^^^^^^\n",
      "  File \"C:\\Users\\Suprajit\\anaconda3\\envs\\Q_projects\\Lib\\site-packages\\pip\\_internal\\req\\constructors.py\", line 353, in parse_req_from_line\n",
      "    extras = convert_extras(extras_as_string)\n",
      "             ^^^^^^^^^^^^^^^^^^^^^^^^^^^^^^^^\n",
      "  File \"C:\\Users\\Suprajit\\anaconda3\\envs\\Q_projects\\Lib\\site-packages\\pip\\_internal\\req\\constructors.py\", line 59, in convert_extras\n",
      "    return get_requirement(\"placeholder\" + extras.lower()).extras\n",
      "           ^^^^^^^^^^^^^^^^^^^^^^^^^^^^^^^^^^^^^^^^^^^^^^^\n",
      "  File \"C:\\Users\\Suprajit\\anaconda3\\envs\\Q_projects\\Lib\\site-packages\\pip\\_internal\\utils\\packaging.py\", line 45, in get_requirement\n",
      "    return Requirement(req_string)\n",
      "           ^^^^^^^^^^^^^^^^^^^^^^^\n",
      "  File \"C:\\Users\\Suprajit\\anaconda3\\envs\\Q_projects\\Lib\\site-packages\\pip\\_vendor\\packaging\\requirements.py\", line 38, in __init__\n",
      "    raise InvalidRequirement(str(e)) from e\n",
      "pip._vendor.packaging.requirements.InvalidRequirement: Expected matching RIGHT_BRACKET for LEFT_BRACKET, after extras\n",
      "    placeholder['visualization']\n",
      "               ~^\n"
     ]
    },
    {
     "name": "stdout",
     "output_type": "stream",
     "text": [
      "Requirement already satisfied: pylatexenc in c:\\users\\suprajit\\appdata\\roaming\\python\\python311\\site-packages (2.10)\n",
      "Requirement already satisfied: qiskit-aer in c:\\users\\suprajit\\appdata\\roaming\\python\\python311\\site-packages (0.14.2)\n",
      "Collecting qiskit>=0.45.2 (from qiskit-aer)\n",
      "  Downloading qiskit-1.2.4-cp38-abi3-win_amd64.whl.metadata (13 kB)\n",
      "Requirement already satisfied: numpy>=1.16.3 in c:\\users\\suprajit\\appdata\\roaming\\python\\python311\\site-packages (from qiskit-aer) (1.26.4)\n",
      "Requirement already satisfied: scipy>=1.0 in c:\\users\\suprajit\\appdata\\roaming\\python\\python311\\site-packages (from qiskit-aer) (1.13.1)\n",
      "Requirement already satisfied: psutil>=5 in c:\\users\\suprajit\\anaconda3\\envs\\q_projects\\lib\\site-packages (from qiskit-aer) (5.9.0)\n",
      "Collecting rustworkx>=0.15.0 (from qiskit>=0.45.2->qiskit-aer)\n",
      "  Using cached rustworkx-0.15.1-cp38-abi3-win_amd64.whl.metadata (10 kB)\n",
      "Collecting sympy>=1.3 (from qiskit>=0.45.2->qiskit-aer)\n",
      "  Downloading sympy-1.13.3-py3-none-any.whl.metadata (12 kB)\n",
      "Requirement already satisfied: dill>=0.3 in c:\\users\\suprajit\\appdata\\roaming\\python\\python311\\site-packages (from qiskit>=0.45.2->qiskit-aer) (0.3.8)\n",
      "Requirement already satisfied: python-dateutil>=2.8.0 in c:\\users\\suprajit\\anaconda3\\envs\\q_projects\\lib\\site-packages (from qiskit>=0.45.2->qiskit-aer) (2.9.0.post0)\n",
      "Requirement already satisfied: stevedore>=3.0.0 in c:\\users\\suprajit\\appdata\\roaming\\python\\python311\\site-packages (from qiskit>=0.45.2->qiskit-aer) (5.2.0)\n",
      "Requirement already satisfied: typing-extensions in c:\\users\\suprajit\\anaconda3\\envs\\q_projects\\lib\\site-packages (from qiskit>=0.45.2->qiskit-aer) (4.11.0)\n",
      "Requirement already satisfied: symengine<0.14,>=0.11 in c:\\users\\suprajit\\appdata\\roaming\\python\\python311\\site-packages (from qiskit>=0.45.2->qiskit-aer) (0.11.0)\n",
      "Requirement already satisfied: six>=1.5 in c:\\users\\suprajit\\anaconda3\\envs\\q_projects\\lib\\site-packages (from python-dateutil>=2.8.0->qiskit>=0.45.2->qiskit-aer) (1.16.0)\n",
      "Requirement already satisfied: pbr!=2.1.0,>=2.0.0 in c:\\users\\suprajit\\appdata\\roaming\\python\\python311\\site-packages (from stevedore>=3.0.0->qiskit>=0.45.2->qiskit-aer) (6.0.0)\n",
      "Requirement already satisfied: mpmath<1.4,>=1.1.0 in c:\\users\\suprajit\\appdata\\roaming\\python\\python311\\site-packages (from sympy>=1.3->qiskit>=0.45.2->qiskit-aer) (1.3.0)\n",
      "Downloading qiskit-1.2.4-cp38-abi3-win_amd64.whl (4.6 MB)\n",
      "   ---------------------------------------- 0.0/4.6 MB ? eta -:--:--\n",
      "   ------ --------------------------------- 0.8/4.6 MB 6.7 MB/s eta 0:00:01\n",
      "   ------------- -------------------------- 1.6/4.6 MB 4.2 MB/s eta 0:00:01\n",
      "   ------------------ --------------------- 2.1/4.6 MB 3.6 MB/s eta 0:00:01\n",
      "   -------------------- ------------------- 2.4/4.6 MB 3.1 MB/s eta 0:00:01\n",
      "   ---------------------- ----------------- 2.6/4.6 MB 2.7 MB/s eta 0:00:01\n",
      "   ------------------------- -------------- 2.9/4.6 MB 2.3 MB/s eta 0:00:01\n",
      "   ------------------------- -------------- 2.9/4.6 MB 2.3 MB/s eta 0:00:01\n",
      "   --------------------------- ------------ 3.1/4.6 MB 2.0 MB/s eta 0:00:01\n",
      "   ----------------------------- ---------- 3.4/4.6 MB 1.8 MB/s eta 0:00:01\n",
      "   ----------------------------- ---------- 3.4/4.6 MB 1.8 MB/s eta 0:00:01\n",
      "   ----------------------------- ---------- 3.4/4.6 MB 1.8 MB/s eta 0:00:01\n",
      "   ------------------------------- -------- 3.7/4.6 MB 1.5 MB/s eta 0:00:01\n",
      "   ------------------------------- -------- 3.7/4.6 MB 1.5 MB/s eta 0:00:01\n",
      "   ---------------------------------- ----- 3.9/4.6 MB 1.4 MB/s eta 0:00:01\n",
      "   ------------------------------------ --- 4.2/4.6 MB 1.3 MB/s eta 0:00:01\n",
      "   ------------------------------------ --- 4.2/4.6 MB 1.3 MB/s eta 0:00:01\n",
      "   ---------------------------------------- 4.6/4.6 MB 1.2 MB/s eta 0:00:00\n",
      "Using cached rustworkx-0.15.1-cp38-abi3-win_amd64.whl (1.8 MB)\n",
      "Downloading sympy-1.13.3-py3-none-any.whl (6.2 MB)\n",
      "   ---------------------------------------- 0.0/6.2 MB ? eta -:--:--\n",
      "   ---------------------------------------- 0.0/6.2 MB ? eta -:--:--\n",
      "   ---------------------------------------- 0.0/6.2 MB ? eta -:--:--\n",
      "   - -------------------------------------- 0.3/6.2 MB ? eta -:--:--\n",
      "   - -------------------------------------- 0.3/6.2 MB ? eta -:--:--\n",
      "   - -------------------------------------- 0.3/6.2 MB ? eta -:--:--\n",
      "   - -------------------------------------- 0.3/6.2 MB ? eta -:--:--\n",
      "   --- ------------------------------------ 0.5/6.2 MB 266.4 kB/s eta 0:00:22\n",
      "   --- ------------------------------------ 0.5/6.2 MB 266.4 kB/s eta 0:00:22\n",
      "   --- ------------------------------------ 0.5/6.2 MB 266.4 kB/s eta 0:00:22\n",
      "   --- ------------------------------------ 0.5/6.2 MB 266.4 kB/s eta 0:00:22\n",
      "   --- ------------------------------------ 0.5/6.2 MB 266.4 kB/s eta 0:00:22\n",
      "   ----- ---------------------------------- 0.8/6.2 MB 245.0 kB/s eta 0:00:23\n",
      "   ----- ---------------------------------- 0.8/6.2 MB 245.0 kB/s eta 0:00:23\n",
      "   ----- ---------------------------------- 0.8/6.2 MB 245.0 kB/s eta 0:00:23\n",
      "   ----- ---------------------------------- 0.8/6.2 MB 245.0 kB/s eta 0:00:23\n",
      "   ----- ---------------------------------- 0.8/6.2 MB 245.0 kB/s eta 0:00:23\n",
      "   ----- ---------------------------------- 0.8/6.2 MB 245.0 kB/s eta 0:00:23\n",
      "   ----- ---------------------------------- 0.8/6.2 MB 245.0 kB/s eta 0:00:23\n",
      "   ----- ---------------------------------- 0.8/6.2 MB 245.0 kB/s eta 0:00:23\n",
      "   ------ --------------------------------- 1.0/6.2 MB 214.2 kB/s eta 0:00:25\n",
      "   ------ --------------------------------- 1.0/6.2 MB 214.2 kB/s eta 0:00:25\n",
      "   ------ --------------------------------- 1.0/6.2 MB 214.2 kB/s eta 0:00:25\n",
      "   -------- ------------------------------- 1.3/6.2 MB 238.0 kB/s eta 0:00:21\n",
      "   -------- ------------------------------- 1.3/6.2 MB 238.0 kB/s eta 0:00:21\n",
      "   ---------- ----------------------------- 1.6/6.2 MB 268.9 kB/s eta 0:00:18\n",
      "   ---------- ----------------------------- 1.6/6.2 MB 268.9 kB/s eta 0:00:18\n",
      "   ----------- ---------------------------- 1.8/6.2 MB 299.6 kB/s eta 0:00:15\n",
      "   ----------- ---------------------------- 1.8/6.2 MB 299.6 kB/s eta 0:00:15\n",
      "   ------------- -------------------------- 2.1/6.2 MB 322.7 kB/s eta 0:00:13\n",
      "   ------------- -------------------------- 2.1/6.2 MB 322.7 kB/s eta 0:00:13\n",
      "   --------------- ------------------------ 2.4/6.2 MB 345.9 kB/s eta 0:00:12\n",
      "   ---------------- ----------------------- 2.6/6.2 MB 365.6 kB/s eta 0:00:10\n",
      "   ---------------- ----------------------- 2.6/6.2 MB 365.6 kB/s eta 0:00:10\n",
      "   ------------------ --------------------- 2.9/6.2 MB 386.6 kB/s eta 0:00:09\n",
      "   -------------------- ------------------- 3.1/6.2 MB 407.4 kB/s eta 0:00:08\n",
      "   -------------------- ------------------- 3.1/6.2 MB 407.4 kB/s eta 0:00:08\n",
      "   ---------------------- ----------------- 3.4/6.2 MB 424.8 kB/s eta 0:00:07\n",
      "   ---------------------- ----------------- 3.4/6.2 MB 424.8 kB/s eta 0:00:07\n",
      "   ----------------------- ---------------- 3.7/6.2 MB 436.2 kB/s eta 0:00:06\n",
      "   ------------------------- -------------- 3.9/6.2 MB 451.7 kB/s eta 0:00:05\n",
      "   ------------------------- -------------- 3.9/6.2 MB 451.7 kB/s eta 0:00:05\n",
      "   --------------------------- ------------ 4.2/6.2 MB 459.3 kB/s eta 0:00:05\n",
      "   --------------------------- ------------ 4.2/6.2 MB 459.3 kB/s eta 0:00:05\n",
      "   --------------------------- ------------ 4.2/6.2 MB 459.3 kB/s eta 0:00:05\n",
      "   ---------------------------- ----------- 4.5/6.2 MB 455.8 kB/s eta 0:00:04\n",
      "   ---------------------------- ----------- 4.5/6.2 MB 455.8 kB/s eta 0:00:04\n",
      "   ---------------------------- ----------- 4.5/6.2 MB 455.8 kB/s eta 0:00:04\n",
      "   ------------------------------ --------- 4.7/6.2 MB 454.9 kB/s eta 0:00:04\n",
      "   ------------------------------ --------- 4.7/6.2 MB 454.9 kB/s eta 0:00:04\n",
      "   ------------------------------ --------- 4.7/6.2 MB 454.9 kB/s eta 0:00:04\n",
      "   -------------------------------- ------- 5.0/6.2 MB 456.2 kB/s eta 0:00:03\n",
      "   -------------------------------- ------- 5.0/6.2 MB 456.2 kB/s eta 0:00:03\n",
      "   --------------------------------- ------ 5.2/6.2 MB 458.0 kB/s eta 0:00:03\n",
      "   --------------------------------- ------ 5.2/6.2 MB 458.0 kB/s eta 0:00:03\n",
      "   ----------------------------------- ---- 5.5/6.2 MB 465.4 kB/s eta 0:00:02\n",
      "   ----------------------------------- ---- 5.5/6.2 MB 465.4 kB/s eta 0:00:02\n",
      "   ------------------------------------- -- 5.8/6.2 MB 473.6 kB/s eta 0:00:01\n",
      "   ------------------------------------- -- 5.8/6.2 MB 473.6 kB/s eta 0:00:01\n",
      "   -------------------------------------- - 6.0/6.2 MB 476.9 kB/s eta 0:00:01\n",
      "   ---------------------------------------- 6.2/6.2 MB 480.8 kB/s eta 0:00:00\n",
      "Installing collected packages: sympy, rustworkx, qiskit\n",
      "Successfully installed qiskit-1.2.4 rustworkx-0.15.1 sympy-1.13.3\n",
      "Collecting qiskit_ibm_runtime\n",
      "  Downloading qiskit_ibm_runtime-0.30.0-py3-none-any.whl.metadata (19 kB)\n",
      "Requirement already satisfied: requests>=2.19 in c:\\users\\suprajit\\anaconda3\\envs\\q_projects\\lib\\site-packages (from qiskit_ibm_runtime) (2.32.3)\n",
      "Collecting requests-ntlm>=1.1.0 (from qiskit_ibm_runtime)\n",
      "  Using cached requests_ntlm-1.3.0-py3-none-any.whl.metadata (2.4 kB)\n",
      "Requirement already satisfied: numpy>=1.13 in c:\\users\\suprajit\\appdata\\roaming\\python\\python311\\site-packages (from qiskit_ibm_runtime) (1.26.4)\n",
      "Requirement already satisfied: urllib3>=1.21.1 in c:\\users\\suprajit\\anaconda3\\envs\\q_projects\\lib\\site-packages (from qiskit_ibm_runtime) (2.2.3)\n",
      "Requirement already satisfied: python-dateutil>=2.8.0 in c:\\users\\suprajit\\anaconda3\\envs\\q_projects\\lib\\site-packages (from qiskit_ibm_runtime) (2.9.0.post0)\n",
      "Requirement already satisfied: websocket-client>=1.5.1 in c:\\users\\suprajit\\anaconda3\\envs\\q_projects\\lib\\site-packages (from qiskit_ibm_runtime) (1.8.0)\n",
      "Collecting ibm-platform-services>=0.22.6 (from qiskit_ibm_runtime)\n",
      "  Downloading ibm_platform_services-0.57.1-py3-none-any.whl.metadata (9.1 kB)\n",
      "Collecting pydantic>=2.5.0 (from qiskit_ibm_runtime)\n",
      "  Using cached pydantic-2.9.2-py3-none-any.whl.metadata (149 kB)\n",
      "Requirement already satisfied: qiskit>=1.1.0 in c:\\users\\suprajit\\anaconda3\\envs\\q_projects\\lib\\site-packages (from qiskit_ibm_runtime) (1.2.4)\n",
      "Collecting ibm-cloud-sdk-core<4.0.0,>=3.21.0 (from ibm-platform-services>=0.22.6->qiskit_ibm_runtime)\n",
      "  Downloading ibm_cloud_sdk_core-3.21.0-py3-none-any.whl.metadata (8.5 kB)\n",
      "Collecting annotated-types>=0.6.0 (from pydantic>=2.5.0->qiskit_ibm_runtime)\n",
      "  Using cached annotated_types-0.7.0-py3-none-any.whl.metadata (15 kB)\n",
      "Collecting pydantic-core==2.23.4 (from pydantic>=2.5.0->qiskit_ibm_runtime)\n",
      "  Using cached pydantic_core-2.23.4-cp311-none-win_amd64.whl.metadata (6.7 kB)\n",
      "Requirement already satisfied: typing-extensions>=4.6.1 in c:\\users\\suprajit\\anaconda3\\envs\\q_projects\\lib\\site-packages (from pydantic>=2.5.0->qiskit_ibm_runtime) (4.11.0)\n",
      "Requirement already satisfied: six>=1.5 in c:\\users\\suprajit\\anaconda3\\envs\\q_projects\\lib\\site-packages (from python-dateutil>=2.8.0->qiskit_ibm_runtime) (1.16.0)\n",
      "Requirement already satisfied: rustworkx>=0.15.0 in c:\\users\\suprajit\\anaconda3\\envs\\q_projects\\lib\\site-packages (from qiskit>=1.1.0->qiskit_ibm_runtime) (0.15.1)\n",
      "Requirement already satisfied: scipy>=1.5 in c:\\users\\suprajit\\appdata\\roaming\\python\\python311\\site-packages (from qiskit>=1.1.0->qiskit_ibm_runtime) (1.13.1)\n",
      "Requirement already satisfied: sympy>=1.3 in c:\\users\\suprajit\\anaconda3\\envs\\q_projects\\lib\\site-packages (from qiskit>=1.1.0->qiskit_ibm_runtime) (1.13.3)\n",
      "Requirement already satisfied: dill>=0.3 in c:\\users\\suprajit\\appdata\\roaming\\python\\python311\\site-packages (from qiskit>=1.1.0->qiskit_ibm_runtime) (0.3.8)\n",
      "Requirement already satisfied: stevedore>=3.0.0 in c:\\users\\suprajit\\appdata\\roaming\\python\\python311\\site-packages (from qiskit>=1.1.0->qiskit_ibm_runtime) (5.2.0)\n",
      "Requirement already satisfied: symengine<0.14,>=0.11 in c:\\users\\suprajit\\appdata\\roaming\\python\\python311\\site-packages (from qiskit>=1.1.0->qiskit_ibm_runtime) (0.11.0)\n",
      "Requirement already satisfied: charset-normalizer<4,>=2 in c:\\users\\suprajit\\anaconda3\\envs\\q_projects\\lib\\site-packages (from requests>=2.19->qiskit_ibm_runtime) (3.3.2)\n",
      "Requirement already satisfied: idna<4,>=2.5 in c:\\users\\suprajit\\anaconda3\\envs\\q_projects\\lib\\site-packages (from requests>=2.19->qiskit_ibm_runtime) (3.7)\n",
      "Requirement already satisfied: certifi>=2017.4.17 in c:\\users\\suprajit\\anaconda3\\envs\\q_projects\\lib\\site-packages (from requests>=2.19->qiskit_ibm_runtime) (2024.8.30)\n",
      "Collecting cryptography>=1.3 (from requests-ntlm>=1.1.0->qiskit_ibm_runtime)\n",
      "  Using cached cryptography-43.0.1-cp39-abi3-win_amd64.whl.metadata (5.4 kB)\n",
      "Collecting pyspnego>=0.4.0 (from requests-ntlm>=1.1.0->qiskit_ibm_runtime)\n",
      "  Downloading pyspnego-0.11.1-py3-none-any.whl.metadata (5.4 kB)\n",
      "Requirement already satisfied: cffi>=1.12 in c:\\users\\suprajit\\anaconda3\\envs\\q_projects\\lib\\site-packages (from cryptography>=1.3->requests-ntlm>=1.1.0->qiskit_ibm_runtime) (1.17.1)\n",
      "Collecting PyJWT<3.0.0,>=2.8.0 (from ibm-cloud-sdk-core<4.0.0,>=3.21.0->ibm-platform-services>=0.22.6->qiskit_ibm_runtime)\n",
      "  Downloading PyJWT-2.9.0-py3-none-any.whl.metadata (3.0 kB)\n",
      "Collecting sspilib>=0.1.0 (from pyspnego>=0.4.0->requests-ntlm>=1.1.0->qiskit_ibm_runtime)\n",
      "  Downloading sspilib-0.2.0-cp311-cp311-win_amd64.whl.metadata (7.5 kB)\n",
      "Requirement already satisfied: pbr!=2.1.0,>=2.0.0 in c:\\users\\suprajit\\appdata\\roaming\\python\\python311\\site-packages (from stevedore>=3.0.0->qiskit>=1.1.0->qiskit_ibm_runtime) (6.0.0)\n",
      "Requirement already satisfied: mpmath<1.4,>=1.1.0 in c:\\users\\suprajit\\appdata\\roaming\\python\\python311\\site-packages (from sympy>=1.3->qiskit>=1.1.0->qiskit_ibm_runtime) (1.3.0)\n",
      "Requirement already satisfied: pycparser in c:\\users\\suprajit\\anaconda3\\envs\\q_projects\\lib\\site-packages (from cffi>=1.12->cryptography>=1.3->requests-ntlm>=1.1.0->qiskit_ibm_runtime) (2.21)\n",
      "Downloading qiskit_ibm_runtime-0.30.0-py3-none-any.whl (2.9 MB)\n",
      "   ---------------------------------------- 0.0/2.9 MB ? eta -:--:--\n",
      "   -------------- ------------------------- 1.0/2.9 MB 10.1 MB/s eta 0:00:01\n",
      "   ---------------------------------------- 2.9/2.9 MB 10.1 MB/s eta 0:00:00\n",
      "Downloading ibm_platform_services-0.57.1-py3-none-any.whl (343 kB)\n",
      "Using cached pydantic-2.9.2-py3-none-any.whl (434 kB)\n",
      "Using cached pydantic_core-2.23.4-cp311-none-win_amd64.whl (1.9 MB)\n",
      "Using cached requests_ntlm-1.3.0-py3-none-any.whl (6.6 kB)\n",
      "Using cached annotated_types-0.7.0-py3-none-any.whl (13 kB)\n",
      "Using cached cryptography-43.0.1-cp39-abi3-win_amd64.whl (3.1 MB)\n",
      "Downloading ibm_cloud_sdk_core-3.21.0-py3-none-any.whl (64 kB)\n",
      "Downloading pyspnego-0.11.1-py3-none-any.whl (130 kB)\n",
      "Downloading PyJWT-2.9.0-py3-none-any.whl (22 kB)\n",
      "Downloading sspilib-0.2.0-cp311-cp311-win_amd64.whl (564 kB)\n",
      "   ---------------------------------------- 0.0/564.8 kB ? eta -:--:--\n",
      "   ---------------------------------------- 564.8/564.8 kB 9.5 MB/s eta 0:00:00\n",
      "Installing collected packages: sspilib, PyJWT, pydantic-core, annotated-types, pydantic, ibm-cloud-sdk-core, cryptography, pyspnego, ibm-platform-services, requests-ntlm, qiskit_ibm_runtime\n",
      "Successfully installed PyJWT-2.9.0 annotated-types-0.7.0 cryptography-43.0.1 ibm-cloud-sdk-core-3.21.0 ibm-platform-services-0.57.1 pydantic-2.9.2 pydantic-core-2.23.4 pyspnego-0.11.1 qiskit_ibm_runtime-0.30.0 requests-ntlm-1.3.0 sspilib-0.2.0\n",
      "Requirement already satisfied: numpy in c:\\users\\suprajit\\appdata\\roaming\\python\\python311\\site-packages (1.26.4)\n",
      "Requirement already satisfied: matplotlib in c:\\users\\suprajit\\appdata\\roaming\\python\\python311\\site-packages (3.9.0)\n",
      "Requirement already satisfied: contourpy>=1.0.1 in c:\\users\\suprajit\\appdata\\roaming\\python\\python311\\site-packages (from matplotlib) (1.2.1)\n",
      "Requirement already satisfied: cycler>=0.10 in c:\\users\\suprajit\\appdata\\roaming\\python\\python311\\site-packages (from matplotlib) (0.12.1)\n",
      "Requirement already satisfied: fonttools>=4.22.0 in c:\\users\\suprajit\\appdata\\roaming\\python\\python311\\site-packages (from matplotlib) (4.53.0)\n",
      "Requirement already satisfied: kiwisolver>=1.3.1 in c:\\users\\suprajit\\appdata\\roaming\\python\\python311\\site-packages (from matplotlib) (1.4.5)\n",
      "Requirement already satisfied: numpy>=1.23 in c:\\users\\suprajit\\appdata\\roaming\\python\\python311\\site-packages (from matplotlib) (1.26.4)\n",
      "Requirement already satisfied: packaging>=20.0 in c:\\users\\suprajit\\anaconda3\\envs\\q_projects\\lib\\site-packages (from matplotlib) (24.1)\n",
      "Requirement already satisfied: pillow>=8 in c:\\users\\suprajit\\appdata\\roaming\\python\\python311\\site-packages (from matplotlib) (10.3.0)\n",
      "Requirement already satisfied: pyparsing>=2.3.1 in c:\\users\\suprajit\\appdata\\roaming\\python\\python311\\site-packages (from matplotlib) (3.1.2)\n",
      "Requirement already satisfied: python-dateutil>=2.7 in c:\\users\\suprajit\\anaconda3\\envs\\q_projects\\lib\\site-packages (from matplotlib) (2.9.0.post0)\n",
      "Requirement already satisfied: six>=1.5 in c:\\users\\suprajit\\anaconda3\\envs\\q_projects\\lib\\site-packages (from python-dateutil>=2.7->matplotlib) (1.16.0)\n",
      "Requirement already satisfied: scipy in c:\\users\\suprajit\\appdata\\roaming\\python\\python311\\site-packages (1.13.1)\n",
      "Requirement already satisfied: numpy<2.3,>=1.22.4 in c:\\users\\suprajit\\appdata\\roaming\\python\\python311\\site-packages (from scipy) (1.26.4)\n"
     ]
    }
   ],
   "source": [
    "!pip install qiskit['visualization']\n",
    "!pip install pylatexenc\n",
    "!pip install qiskit-aer\n",
    "!pip install qiskit_ibm_runtime\n",
    "!pip install numpy\n",
    "!pip install matplotlib\n",
    "!pip install scipy\n",
    "# !pip install qiskit-ib"
   ]
  },
  {
   "cell_type": "code",
   "execution_count": 3,
   "metadata": {},
   "outputs": [
    {
     "data": {
      "image/png": "[encoded data removed]",
      "text/plain": [
       "<Figure size 287.294x200.667 with 1 Axes>"
      ]
     },
     "execution_count": 3,
     "metadata": {},
     "output_type": "execute_result"
    }
   ],
   "source": [
    "from qiskit import QuantumCircuit\n",
    "\n",
    "qc = QuantumCircuit(2)\n",
    "qc.h(0)\n",
    "qc.cx(0,1)\n",
    "\n",
    "qc.draw('mpl')"
   ]
  },
  {
   "cell_type": "code",
   "execution_count": 65,
   "metadata": {
    "id": "hJ2pml51vKZg"
   },
   "outputs": [],
   "source": [
    "from qiskit_ibm_runtime import QiskitRuntimeService\n",
    "service = QiskitRuntimeService(channel=\"ibm_quantum\",\n",
    "                                token =\"8f94da79454ec50dcf502a86cce6489a55dc1da429e7371e0fe805c885b67f228d9e7348d63d52fbdbbf3d6e0b78bb625d9f3caf333eefc74c484a00972fe183\")\n",
    "\n",
    "#QiskitRuntimeService.save_account(channel=\"ibm_quantum\",\n",
    "#                                  token=\"da13eebb1c9a9014b29f40b13f26675d59f8bbe98880605c33de602f3ea96939300176a2f9272b5f37e664650be49812a74a6e88b56f626b3e7e1e3dc946ced3\")"
   ]
  },
  {
   "cell_type": "code",
   "execution_count": 66,
   "metadata": {
    "id": "xY_pTRJqva3M"
   },
   "outputs": [],
   "source": [
    "from qiskit_ibm_runtime import QiskitRuntimeService\n",
    "from qiskit import QuantumCircuit\n",
    "from qiskit.transpiler.preset_passmanagers import generate_preset_pass_manager\n",
    "from qiskit.quantum_info import SparsePauliOp"
   ]
  },
  {
   "cell_type": "markdown",
   "metadata": {
    "id": "DFGC-65wxWQC"
   },
   "source": [
    "### Encoding the problem\n",
    "\n",
    "\n",
    "Let the trail state be:\n",
    "\n",
    "$$ (1/2L)\\sum_{x1,x2} |x1,x2> $$"
   ]
  },
  {
   "cell_type": "code",
   "execution_count": 149,
   "metadata": {
    "id": "Qw3mlX218U6k"
   },
   "outputs": [],
   "source": [
    "# Defing the Parameters:\n",
    "\n",
    "m = 940\n",
    "L = 5\n",
    "c = 0.8\n",
    "w = 5\n",
    "h = 1/ (2*m)"
   ]
  },
  {
   "cell_type": "code",
   "execution_count": 98,
   "metadata": {
    "colab": {
     "base_uri": "https://localhost:8080/",
     "height": 706
    },
    "id": "N8ILF_y-x5Ef",
    "outputId": "535374cc-9476-49a1-d848-69cec7719e5b"
   },
   "outputs": [
    {
     "data": {
      "image/png": "[encoded data removed]",
      "text/plain": [
       "<Figure size 251.962x869.556 with 1 Axes>"
      ]
     },
     "execution_count": 98,
     "metadata": {},
     "output_type": "execute_result"
    }
   ],
   "source": [
    "from qiskit import QuantumCircuit, QuantumRegister, ClassicalRegister\n",
    "\n",
    "L = 5\n",
    "num_qubits = 2 * L\n",
    "q = QuantumRegister(num_qubits, \"qreg\")\n",
    "#c = ClassicalRegister(num_qubits)\n",
    "trail_circuit = QuantumCircuit(q)\n",
    "\n",
    "for i in range(num_qubits):\n",
    "    trail_circuit.h(q[i])\n",
    "\n",
    "trail_circuit.draw('mpl')"
   ]
  },
  {
   "cell_type": "code",
   "execution_count": 69,
   "metadata": {
    "colab": {
     "base_uri": "https://localhost:8080/",
     "height": 320
    },
    "id": "f1QHimBtMEZ3",
    "outputId": "482dd270-be96-4ca8-b513-7d6f4cd98c4f"
   },
   "outputs": [
    {
     "data": {
      "image/png": "[encoded data removed]",
      "text/plain": [
       "<Figure size 287.496x367.889 with 1 Axes>"
      ]
     },
     "execution_count": 69,
     "metadata": {},
     "output_type": "execute_result"
    }
   ],
   "source": [
    "from qiskit import QuantumCircuit, transpile\n",
    "from qiskit.circuit.library import XXPlusYYGate\n",
    "\n",
    "# Create a quantum circuit with 4 qubits (2L = 4)\n",
    "L = 2\n",
    "num_qubits = 2 * L\n",
    "qc = QuantumCircuit(num_qubits)\n",
    "\n",
    "# Apply kinetic energy terms (XX and YY terms between qubit pairs (0,1) and (2,3))\n",
    "# Use a custom gate to represent XX + YY interaction\n",
    "\n",
    "# Define the hopping parameter (h)\n",
    "h = 1.0\n",
    "\n",
    "# For (0,1) qubit pair: Apply XX + YY interaction\n",
    "qc.append(XXPlusYYGate(2 * h), [0, 1])\n",
    "\n",
    "# For (2,3) qubit pair: Apply XX + YY interaction\n",
    "qc.append(XXPlusYYGate(2 * h), [2, 3])\n",
    "\n",
    "# Draw the circuit\n",
    "qc.draw('mpl')\n"
   ]
  },
  {
   "cell_type": "code",
   "execution_count": 99,
   "metadata": {
    "colab": {
     "base_uri": "https://localhost:8080/",
     "height": 176
    },
    "id": "WKfn86jpzzfN",
    "outputId": "2b5c72be-6ba9-4429-f03e-51b044d7f16a"
   },
   "outputs": [],
   "source": [
    "def Kinetic_Energy(L, circuit, m):\n",
    "    from qiskit.quantum_info import SparsePauliOp\n",
    "    from qiskit_ibm_runtime import EstimatorV2 as Estimator\n",
    "    from qiskit_ibm_runtime import QiskitRuntimeService\n",
    "    from qiskit_ibm_runtime import EstimatorOptions\n",
    "    from qiskit.transpiler.preset_passmanagers import generate_preset_pass_manager\n",
    "\n",
    "    # Adjust observables to ensure they span the correct number of qubits (2L)\n",
    "    observables_x = ['I'*i + 'X'*2 + 'I'*(2*L - i - 2) for i in range(2*L - 1)]\n",
    "    observables_y = ['I'*i + 'Y'*2 + 'I'*(2*L - i - 2) for i in range(2*L - 1)]\n",
    "    observables = observables_x + observables_y\n",
    "\n",
    "    operators = [SparsePauliOp(operator_string) for operator_string in observables]\n",
    "\n",
    "    # Choosing the backend\n",
    "    service = QiskitRuntimeService(channel ='ibm_quantum',\n",
    "                                   token='8f94da79454ec50dcf502a86cce6489a55dc1da429e7371e0fe805c885b67f228d9e7348d63d52fbdbbf3d6e0b78bb625d9f3caf333eefc74c484a00972fe183')\n",
    "    backend = service.backend(\"ibm_brisbane\")\n",
    "\n",
    "    # Transpilation\n",
    "    pass_Manager = generate_preset_pass_manager(backend=backend, optimization_level=2)\n",
    "    isa_circuit = pass_Manager.run(circuit)\n",
    "\n",
    "    operators_transpiled_layout = [op.apply_layout(isa_circuit.layout) for op in operators]\n",
    "\n",
    "    # Expectation Value\n",
    "    options = EstimatorOptions()\n",
    "    options.resilience_level = 1\n",
    "    options.dynamical_decoupling.enable = True\n",
    "    options.dynamical_decoupling.sequence_type = 'XY4'\n",
    "\n",
    "    estimator = Estimator(backend, options)\n",
    "    job = estimator.run([(isa_circuit, operators_transpiled_layout)])\n",
    "    print(job.job_id())\n",
    "\n",
    "    result = job.result()[0]\n",
    "    values = result.data.evs\n",
    "    energy = sum(values)\n",
    "    h = 1/m\n",
    "    kinetic_energy = 4*h - (h/2)*energy\n",
    "    return kinetic_energy\n"
   ]
  },
  {
   "cell_type": "code",
   "execution_count": 110,
   "metadata": {
    "id": "5P7m5y3PpHEL"
   },
   "outputs": [],
   "source": [
    "def Interaction_Energy(circuit, L, c):\n",
    "    from qiskit.quantum_info import SparsePauliOp\n",
    "    from qiskit_ibm_runtime import EstimatorV2 as Estimator\n",
    "    from qiskit_ibm_runtime import EstimatorOptions\n",
    "    from qiskit_ibm_runtime import QiskitRuntimeService\n",
    "    from qiskit.transpiler.preset_passmanagers import generate_preset_pass_manager\n",
    "\n",
    "    # Ensure L is an integer and c is a float or int\n",
    "    if not isinstance(L, int):\n",
    "        raise ValueError(\"L must be an integer representing the lattice size.\")\n",
    "    if not isinstance(c, (float, int)):\n",
    "        raise ValueError(\"c must be a number (float or int).\")\n",
    "\n",
    "    # Adjust observables to ensure they span the correct number of qubits (2L)\n",
    "    observables = ['I'*i + 'Z'*2 + 'I'*(2*L - i - 2) for i in range(2*L - 1)]\n",
    "    operators = [SparsePauliOp(operator_string) for operator_string in observables]\n",
    "\n",
    "    # Set up backend\n",
    "    service = QiskitRuntimeService(channel='ibm_quantum',\n",
    "                                   token='8f94da79454ec50dcf502a86cce6489a55dc1da429e7371e0fe805c885b67f228d9e7348d63d52fbdbbf3d6e0b78bb625d9f3caf333eefc74c484a00972fe183')\n",
    "    backend = service.backend(\"ibm_brisbane\")\n",
    "\n",
    "    # Transpilation\n",
    "    pass_Manager = generate_preset_pass_manager(backend=backend, optimization_level=2)\n",
    "    isa_circuit = pass_Manager.run(circuit)\n",
    "\n",
    "    # Apply transpiled layout to operators\n",
    "    operators_transpiled_layout = [op.apply_layout(isa_circuit.layout) for op in operators]\n",
    "\n",
    "    # Set up Estimator options\n",
    "    options = EstimatorOptions()\n",
    "    options.resilience_level = 1\n",
    "    options.dynamical_decoupling.enable = True\n",
    "    options.dynamical_decoupling.sequence_type = 'XY4'\n",
    "\n",
    "    # Create Estimator instance\n",
    "    estimator = Estimator(backend, options)\n",
    "\n",
    "    # Run the job\n",
    "    job = estimator.run([(isa_circuit, operators_transpiled_layout)])\n",
    "    print(job.job_id())\n",
    "\n",
    "    # Get the result\n",
    "    result = job.result()[0]\n",
    "    values = result.data.evs\n",
    "\n",
    "    # Calculate the interaction energy\n",
    "    energy = sum(values)\n",
    "    interaction_energy = (c / 4) * L + (c / 2) * energy\n",
    "    return interaction_energy\n"
   ]
  },
  {
   "cell_type": "code",
   "execution_count": 111,
   "metadata": {
    "id": "QvKc7jDmh4WV"
   },
   "outputs": [],
   "source": [
    "# Mod Value:\n",
    "def mod(l, L):\n",
    "  return l % L\n",
    "def mod_value(l, L, c):\n",
    "  center = (L - 1) / 2  # Calculate the center of the lattice\n",
    "  pot_res =  (mod(l, L) - center) ** 2  # Compute the squared deviation\n",
    "  pot_en = pot_res - (c/2)\n",
    "  return pot_en"
   ]
  },
  {
   "cell_type": "code",
   "execution_count": 116,
   "metadata": {
    "id": "tqI3pqfYCiFx"
   },
   "outputs": [],
   "source": [
    "def Potential_Energy(circuit, L, c, m, w):\n",
    "    from qiskit.quantum_info import SparsePauliOp\n",
    "    from qiskit_ibm_runtime import EstimatorV2 as Estimator\n",
    "    from qiskit_ibm_runtime import EstimatorOptions\n",
    "    from qiskit_ibm_runtime import QiskitRuntimeService\n",
    "    from qiskit.transpiler.preset_passmanagers import generate_preset_pass_manager\n",
    "\n",
    "    # Choose backend\n",
    "    service = QiskitRuntimeService(channel='ibm_quantum',\n",
    "                                   token='8f94da79454ec50dcf502a86cce6489a55dc1da429e7371e0fe805c885b67f228d9e7348d63d52fbdbbf3d6e0b78bb625d9f3caf333eefc74c484a00972fe183')\n",
    "    backend = service.backend(\"ibm_brisbane\")\n",
    "\n",
    "    # Observables construction (adjust to ensure they span the correct number of qubits)\n",
    "    observables = ['I'*i + 'Z' + 'I'*(2*L - i - 1) for i in range(2*L)]\n",
    "    operators = [SparsePauliOp(operator_string) for operator_string in observables]\n",
    "\n",
    "    # Transpilation\n",
    "    pass_Manager = generate_preset_pass_manager(backend=backend, optimization_level=2)\n",
    "    isa_circuit = pass_Manager.run(circuit)\n",
    "    operators_transpiled_layout = [op.apply_layout(isa_circuit.layout) for op in operators]\n",
    "\n",
    "    # Execution with Estimator\n",
    "    options = EstimatorOptions()\n",
    "    options.resilience_level = 1\n",
    "    options.dynamical_decoupling.enable = True\n",
    "    options.dynamical_decoupling.sequence_type = 'XY4'\n",
    "\n",
    "    estimator = Estimator(backend, options)\n",
    "    job = estimator.run([(isa_circuit, operators_transpiled_layout)])\n",
    "    print(job.job_id())\n",
    "\n",
    "    # Get result\n",
    "    result = job.result()[0]\n",
    "    values = result.data.evs\n",
    "\n",
    "    # Calculate energy\n",
    "    energy = sum(values)  # Ensure the result sum is done correctly\n",
    "\n",
    "    # Potential energy calculation\n",
    "    res_pot = ((m * w**2) * energy) / 4\n",
    "    potential_energy = (m * (w**2) * L * (L - 1) / 24) - res_pot\n",
    "\n",
    "    return potential_energy\n"
   ]
  },
  {
   "cell_type": "markdown",
   "metadata": {
    "id": "JCek2uU9t-ZC"
   },
   "source": [
    "### Defining the Ansatz"
   ]
  },
  {
   "cell_type": "code",
   "execution_count": 150,
   "metadata": {
    "id": "lGEKltTPoBWJ"
   },
   "outputs": [],
   "source": []
  },
  {
   "cell_type": "code",
   "execution_count": 162,
   "metadata": {},
   "outputs": [],
   "source": [
    "# Define the ansatz function, updated for dynamic qubit size\n",
    "def ansatz(E_total, L, m, c):\n",
    "    try:\n",
    "        # Initialize classical wave function with uniform superposition\n",
    "        Psi = np.ones((L, L)) / np.sqrt(L * L)  # Uniform superposition\n",
    "\n",
    "        # Define the potential function for the lattice points\n",
    "        def potential(i1, i2, L, m, w, c):\n",
    "            V = 0.5 * m * w**2 * (i1**2 + i2**2)\n",
    "            if i1 == i2:  # Interaction term when particles are at the same site\n",
    "                V += c\n",
    "            return V\n",
    "\n",
    "        # Relaxation method to update wave function\n",
    "        def update_wave_function(Psi, L, h, m, w, c, E_total, iterations=1000, tolerance=1e-6):\n",
    "            for iteration in range(iterations):\n",
    "                Psi_new = np.zeros_like(Psi)  # New wave function after iteration\n",
    "                for i1 in range(1, L-1):  # Loop through lattice, avoiding boundary\n",
    "                    for i2 in range(1, L-1):\n",
    "                        # Compute nearest neighbors average\n",
    "                        Psi_avg = (Psi[i1+1, i2] + Psi[i1-1, i2] + Psi[i1, i2+1] + Psi[i1, i2-1]) / 4.0\n",
    "                        # Compute potential at the lattice point\n",
    "                        V_i1_i2 = potential(i1, i2, L, m, w, c)\n",
    "                        # Update the wave function using the relaxation method\n",
    "                        Psi_new[i1, i2] = (4 * h * Psi_avg) / (4 * h + (V_i1_i2 - E_total))\n",
    "\n",
    "                # Check for convergence\n",
    "                if np.max(np.abs(Psi_new - Psi)) < tolerance:\n",
    "                    print(f'Converged after {iteration+1} iterations.')\n",
    "                    break\n",
    "\n",
    "                Psi = Psi_new  # Update wave function for next iteration\n",
    "\n",
    "            return Psi_new\n",
    "\n",
    "        # Perform the relaxation method to get the converged wave function\n",
    "        Psi_converged = update_wave_function(Psi, L, h, m, w, c, E_total)\n",
    "\n",
    "        if Psi_converged is None:\n",
    "            raise ValueError(\"Wave function update failed, no valid Psi_converged.\")\n",
    "\n",
    "        # Normalize the classical wave function\n",
    "        norm_factor = np.linalg.norm(Psi_converged)\n",
    "        if norm_factor == 0:\n",
    "            raise ValueError(\"Normalization factor is zero, possible numerical instability.\")\n",
    "        \n",
    "        Psi_normalized = Psi_converged.flatten() / norm_factor  # Flatten into a 1D array\n",
    "\n",
    "        # Calculate the number of qubits needed for the given lattice size\n",
    "        num_amplitudes = len(Psi_normalized)\n",
    "        #num_qubits = int(np.ceil(np.log2(num_amplitudes)))  # Number of qubits needed\n",
    "        num_qubits = 2*L\n",
    "        # Ensure state vector has the correct size (power of 2)\n",
    "        if len(Psi_normalized) < 2**num_qubits:\n",
    "            Psi_normalized = np.pad(Psi_normalized, (0, 2**num_qubits - len(Psi_normalized)), 'constant')\n",
    "\n",
    "        # Create a quantum circuit with the required number of qubits\n",
    "        qc = QuantumCircuit(num_qubits)\n",
    "        \n",
    "        # Initialize the quantum state with the normalized wave function\n",
    "        state_vector = Statevector(Psi_normalized)\n",
    "        \n",
    "        # Update here: Initialize the quantum circuit with the correct number of qubits\n",
    "        if len(state_vector) == 2**num_qubits:\n",
    "            qc.initialize(state_vector, range(num_qubits))\n",
    "        else:\n",
    "            raise ValueError(f\"Statevector length {len(state_vector)} does not match 2**{num_qubits} qubits\")\n",
    "\n",
    "        return qc\n",
    "\n",
    "    except Exception as e:\n",
    "        print(f\"Error in ansatz function: {e}\")\n",
    "        return None\n"
   ]
  },
  {
   "cell_type": "code",
   "execution_count": 136,
   "metadata": {
    "id": "8D6Q_SLo6kgL"
   },
   "outputs": [
    {
     "name": "stdout",
     "output_type": "stream",
     "text": [
      "cw6csj619rzg0080ys7g\n",
      "cw6csyqvwdtg008knkb0\n",
      "cw6ct8hpcbmg0089dt1g\n",
      "20015.90105210066\n"
     ]
    }
   ],
   "source": [
    "# Initial Guess\n",
    "\n",
    "params = []\n",
    "initial_energy = Kinetic_Energy(L, trail_circuit, m) + Interaction_Energy(trail_circuit, L, c) + Potential_Energy(trail_circuit, L, c, m, w)\n",
    "params.append(initial_energy)\n",
    "print(initial_energy)"
   ]
  },
  {
   "cell_type": "code",
   "execution_count": 166,
   "metadata": {
    "id": "Nbq0-VuMAtPf"
   },
   "outputs": [],
   "source": [
    "def cost_func(params, ansatz, L, m, c, estimator):\n",
    "    \"\"\"\n",
    "    Return the estimated energy and update the ansatz with the obtained energy.\n",
    "\n",
    "    Parameters:\n",
    "        params (ndarray): Array of ansatz parameters (first parameter is E_total).\n",
    "        ansatz (function): Ansatz function that generates a quantum circuit.\n",
    "        L (int): Lattice size.\n",
    "        m (float): Mass parameter.\n",
    "        c (float): Coupling constant.\n",
    "        estimator (Estimator): Estimator primitive instance.\n",
    "\n",
    "    Returns:\n",
    "        float: Energy estimate.\n",
    "    \"\"\"\n",
    "    # Step 1: Get the energy (E_total) from params and update the ansatz\n",
    "    E_total = params[0]  # First parameter is the E_total to update the ansatz\n",
    "    qc = ansatz(E_total, L, m, c)  # Generate the quantum circuit based on this E_total\n",
    "\n",
    "    # Step 2: Estimate the energy using the updated quantum circuit\n",
    "    energy = Kinetic_Energy(L, qc, m) + Interaction_Energy(qc, L, c) + Potential_Energy(qc, L, c, m, w)\n",
    "\n",
    "    # Step 3: Update E_total with the new energy (feedback loop)\n",
    "    params[0] = energy  # Update params with the new E_total value\n",
    "\n",
    "    # Step 4: Store cost history\n",
    "    cost_history_dict[\"iters\"] += 1\n",
    "    cost_history_dict[\"cost_history\"].append(energy)\n",
    "    print(f\"Iters. done: {cost_history_dict['iters']} [Current cost: {energy}]\")\n",
    "\n",
    "    return energy\n"
   ]
  },
  {
   "cell_type": "code",
   "execution_count": 167,
   "metadata": {
    "id": "uwvQScL6uof_"
   },
   "outputs": [],
   "source": [
    "cost_history_dict = {\n",
    "    \"iters\": 0,\n",
    "    \"cost_history\": [],\n",
    "}"
   ]
  },
  {
   "cell_type": "code",
   "execution_count": 168,
   "metadata": {
    "id": "ro3Ft9equsRc"
   },
   "outputs": [
    {
     "name": "stderr",
     "output_type": "stream",
     "text": [
      "C:\\Users\\Suprajit\\AppData\\Local\\Temp\\ipykernel_54388\\1500661366.py:10: DeprecationWarning: The service parameter is deprecated as of qiskit-ibm-runtime 0.26.0 and will be removed no sooner than 3 months after the release date. The service can be extracted from the backend object so it is no longer necessary.\n",
      "  with Session(service = service, backend=backend) as session:\n",
      "C:\\Users\\Suprajit\\AppData\\Local\\Temp\\ipykernel_54388\\1500661366.py:11: DeprecationWarning: Passing a backend as the mode currently runs the job in job mode even if inside of a session/batch context manager. As of qiskit-ibm-runtime version 0.26.0, this behavior is deprecated and in a future release no sooner than than 3 months after the release date, the session/batch will take precendence and the job will not run in job mode. To ensure that jobs are run in session/batch mode, pass in the session/batch or leave the mode parameter emtpy.\n",
      "  estimator = Estimator(backend)\n"
     ]
    },
    {
     "name": "stdout",
     "output_type": "stream",
     "text": [
      "Converged after 2 iterations.\n"
     ]
    },
    {
     "name": "stderr",
     "output_type": "stream",
     "text": [
      "C:\\Users\\Suprajit\\AppData\\Local\\Temp\\ipykernel_54388\\1673910457.py:32: DeprecationWarning: Passing a backend as the mode currently runs the job in job mode even if inside of a session/batch context manager. As of qiskit-ibm-runtime version 0.26.0, this behavior is deprecated and in a future release no sooner than than 3 months after the release date, the session/batch will take precendence and the job will not run in job mode. To ensure that jobs are run in session/batch mode, pass in the session/batch or leave the mode parameter emtpy.\n",
      "  estimator = Estimator(backend, options)\n"
     ]
    },
    {
     "name": "stdout",
     "output_type": "stream",
     "text": [
      "cw6h39dggr6g0087cgmg\n"
     ]
    },
    {
     "name": "stderr",
     "output_type": "stream",
     "text": [
      "C:\\Users\\Suprajit\\AppData\\Local\\Temp\\ipykernel_54388\\838087418.py:37: DeprecationWarning: Passing a backend as the mode currently runs the job in job mode even if inside of a session/batch context manager. As of qiskit-ibm-runtime version 0.26.0, this behavior is deprecated and in a future release no sooner than than 3 months after the release date, the session/batch will take precendence and the job will not run in job mode. To ensure that jobs are run in session/batch mode, pass in the session/batch or leave the mode parameter emtpy.\n",
      "  estimator = Estimator(backend, options)\n"
     ]
    },
    {
     "name": "stdout",
     "output_type": "stream",
     "text": [
      "cw6h50cggr6g0087cgv0\n"
     ]
    },
    {
     "name": "stderr",
     "output_type": "stream",
     "text": [
      "C:\\Users\\Suprajit\\AppData\\Local\\Temp\\ipykernel_54388\\1682745783.py:28: DeprecationWarning: Passing a backend as the mode currently runs the job in job mode even if inside of a session/batch context manager. As of qiskit-ibm-runtime version 0.26.0, this behavior is deprecated and in a future release no sooner than than 3 months after the release date, the session/batch will take precendence and the job will not run in job mode. To ensure that jobs are run in session/batch mode, pass in the session/batch or leave the mode parameter emtpy.\n",
      "  estimator = Estimator(backend, options)\n"
     ]
    },
    {
     "name": "stdout",
     "output_type": "stream",
     "text": [
      "cw6h6dsggr6g0087cgzg\n",
      "Iters. done: 1 [Current cost: 19947.10738822953]\n",
      "Converged after 2 iterations.\n"
     ]
    },
    {
     "name": "stderr",
     "output_type": "stream",
     "text": [
      "C:\\Users\\Suprajit\\AppData\\Local\\Temp\\ipykernel_54388\\1673910457.py:32: DeprecationWarning: Passing a backend as the mode currently runs the job in job mode even if inside of a session/batch context manager. As of qiskit-ibm-runtime version 0.26.0, this behavior is deprecated and in a future release no sooner than than 3 months after the release date, the session/batch will take precendence and the job will not run in job mode. To ensure that jobs are run in session/batch mode, pass in the session/batch or leave the mode parameter emtpy.\n",
      "  estimator = Estimator(backend, options)\n"
     ]
    },
    {
     "name": "stdout",
     "output_type": "stream",
     "text": [
      "cw6h7tzjyrs0008gjd80\n"
     ]
    },
    {
     "name": "stderr",
     "output_type": "stream",
     "text": [
      "C:\\Users\\Suprajit\\AppData\\Local\\Temp\\ipykernel_54388\\838087418.py:37: DeprecationWarning: Passing a backend as the mode currently runs the job in job mode even if inside of a session/batch context manager. As of qiskit-ibm-runtime version 0.26.0, this behavior is deprecated and in a future release no sooner than than 3 months after the release date, the session/batch will take precendence and the job will not run in job mode. To ensure that jobs are run in session/batch mode, pass in the session/batch or leave the mode parameter emtpy.\n",
      "  estimator = Estimator(backend, options)\n"
     ]
    },
    {
     "name": "stdout",
     "output_type": "stream",
     "text": [
      "cw6haq29ezk00080qvn0\n"
     ]
    },
    {
     "name": "stderr",
     "output_type": "stream",
     "text": [
      "C:\\Users\\Suprajit\\AppData\\Local\\Temp\\ipykernel_54388\\1682745783.py:28: DeprecationWarning: Passing a backend as the mode currently runs the job in job mode even if inside of a session/batch context manager. As of qiskit-ibm-runtime version 0.26.0, this behavior is deprecated and in a future release no sooner than than 3 months after the release date, the session/batch will take precendence and the job will not run in job mode. To ensure that jobs are run in session/batch mode, pass in the session/batch or leave the mode parameter emtpy.\n",
      "  estimator = Estimator(backend, options)\n"
     ]
    },
    {
     "name": "stdout",
     "output_type": "stream",
     "text": [
      "cw6hcmtjyrs0008gjdq0\n",
      "Iters. done: 2 [Current cost: 19543.672679753927]\n",
      "Converged after 2 iterations.\n"
     ]
    },
    {
     "name": "stderr",
     "output_type": "stream",
     "text": [
      "C:\\Users\\Suprajit\\AppData\\Local\\Temp\\ipykernel_54388\\1673910457.py:32: DeprecationWarning: Passing a backend as the mode currently runs the job in job mode even if inside of a session/batch context manager. As of qiskit-ibm-runtime version 0.26.0, this behavior is deprecated and in a future release no sooner than than 3 months after the release date, the session/batch will take precendence and the job will not run in job mode. To ensure that jobs are run in session/batch mode, pass in the session/batch or leave the mode parameter emtpy.\n",
      "  estimator = Estimator(backend, options)\n"
     ]
    },
    {
     "name": "stdout",
     "output_type": "stream",
     "text": [
      "cw6htchjyrs0008gjewg\n"
     ]
    },
    {
     "name": "stderr",
     "output_type": "stream",
     "text": [
      "C:\\Users\\Suprajit\\AppData\\Local\\Temp\\ipykernel_54388\\838087418.py:37: DeprecationWarning: Passing a backend as the mode currently runs the job in job mode even if inside of a session/batch context manager. As of qiskit-ibm-runtime version 0.26.0, this behavior is deprecated and in a future release no sooner than than 3 months after the release date, the session/batch will take precendence and the job will not run in job mode. To ensure that jobs are run in session/batch mode, pass in the session/batch or leave the mode parameter emtpy.\n",
      "  estimator = Estimator(backend, options)\n"
     ]
    },
    {
     "ename": "IBMRuntimeError",
     "evalue": "'Failed to run program: \\'403 Client Error: Forbidden for url: https://api.quantum.ibm.com/runtime/jobs. {\"errors\":[{\"message\":\"Job create exceeds open plan job usage limits\",\"code\":4317,\"solution\":\"Please wait until the beginning of next month to submit more jobs when your quota will reset.\",\"more_info\":\"https://docs.quantum-computing.ibm.com/errors\"}]}\\''",
     "output_type": "error",
     "traceback": [
      "\u001b[1;31m---------------------------------------------------------------------------\u001b[0m",
      "\u001b[1;31mIBMRuntimeError\u001b[0m                           Traceback (most recent call last)",
      "Cell \u001b[1;32mIn[168], line 14\u001b[0m\n\u001b[0;32m     12\u001b[0m     estimator\u001b[38;5;241m.\u001b[39moptions\u001b[38;5;241m.\u001b[39mdefault_shots \u001b[38;5;241m=\u001b[39m \u001b[38;5;241m1000\u001b[39m\n\u001b[0;32m     13\u001b[0m     \u001b[38;5;66;03m# Run the optimization using COBYLA\u001b[39;00m\n\u001b[1;32m---> 14\u001b[0m     result \u001b[38;5;241m=\u001b[39m minimize(\n\u001b[0;32m     15\u001b[0m         cost_func,\n\u001b[0;32m     16\u001b[0m         x0,\n\u001b[0;32m     17\u001b[0m         args\u001b[38;5;241m=\u001b[39m(ansatz, L, m, c, estimator),  \u001b[38;5;66;03m# Pass ansatz and other args\u001b[39;00m\n\u001b[0;32m     18\u001b[0m         method\u001b[38;5;241m=\u001b[39m\u001b[38;5;124m\"\u001b[39m\u001b[38;5;124mCOBYLA\u001b[39m\u001b[38;5;124m\"\u001b[39m\n\u001b[0;32m     19\u001b[0m     )\n\u001b[0;32m     21\u001b[0m \u001b[38;5;66;03m# The result will hold the optimized energy and wave function\u001b[39;00m\n\u001b[0;32m     22\u001b[0m final_energy \u001b[38;5;241m=\u001b[39m result\u001b[38;5;241m.\u001b[39mfun  \u001b[38;5;66;03m# The minimum energy found\u001b[39;00m\n",
      "File \u001b[1;32m~\\AppData\\Roaming\\Python\\Python311\\site-packages\\scipy\\optimize\\_minimize.py:719\u001b[0m, in \u001b[0;36mminimize\u001b[1;34m(fun, x0, args, method, jac, hess, hessp, bounds, constraints, tol, callback, options)\u001b[0m\n\u001b[0;32m    716\u001b[0m     res \u001b[38;5;241m=\u001b[39m _minimize_tnc(fun, x0, args, jac, bounds, callback\u001b[38;5;241m=\u001b[39mcallback,\n\u001b[0;32m    717\u001b[0m                         \u001b[38;5;241m*\u001b[39m\u001b[38;5;241m*\u001b[39moptions)\n\u001b[0;32m    718\u001b[0m \u001b[38;5;28;01melif\u001b[39;00m meth \u001b[38;5;241m==\u001b[39m \u001b[38;5;124m'\u001b[39m\u001b[38;5;124mcobyla\u001b[39m\u001b[38;5;124m'\u001b[39m:\n\u001b[1;32m--> 719\u001b[0m     res \u001b[38;5;241m=\u001b[39m _minimize_cobyla(fun, x0, args, constraints, callback\u001b[38;5;241m=\u001b[39mcallback,\n\u001b[0;32m    720\u001b[0m                            bounds\u001b[38;5;241m=\u001b[39mbounds, \u001b[38;5;241m*\u001b[39m\u001b[38;5;241m*\u001b[39moptions)\n\u001b[0;32m    721\u001b[0m \u001b[38;5;28;01melif\u001b[39;00m meth \u001b[38;5;241m==\u001b[39m \u001b[38;5;124m'\u001b[39m\u001b[38;5;124mslsqp\u001b[39m\u001b[38;5;124m'\u001b[39m:\n\u001b[0;32m    722\u001b[0m     res \u001b[38;5;241m=\u001b[39m _minimize_slsqp(fun, x0, args, jac, bounds,\n\u001b[0;32m    723\u001b[0m                           constraints, callback\u001b[38;5;241m=\u001b[39mcallback, \u001b[38;5;241m*\u001b[39m\u001b[38;5;241m*\u001b[39moptions)\n",
      "File \u001b[1;32m~\\AppData\\Roaming\\Python\\Python311\\site-packages\\scipy\\optimize\\_cobyla_py.py:35\u001b[0m, in \u001b[0;36msynchronized.<locals>.wrapper\u001b[1;34m(*args, **kwargs)\u001b[0m\n\u001b[0;32m     32\u001b[0m \u001b[38;5;129m@functools\u001b[39m\u001b[38;5;241m.\u001b[39mwraps(func)\n\u001b[0;32m     33\u001b[0m \u001b[38;5;28;01mdef\u001b[39;00m \u001b[38;5;21mwrapper\u001b[39m(\u001b[38;5;241m*\u001b[39margs, \u001b[38;5;241m*\u001b[39m\u001b[38;5;241m*\u001b[39mkwargs):\n\u001b[0;32m     34\u001b[0m     \u001b[38;5;28;01mwith\u001b[39;00m _module_lock:\n\u001b[1;32m---> 35\u001b[0m         \u001b[38;5;28;01mreturn\u001b[39;00m func(\u001b[38;5;241m*\u001b[39margs, \u001b[38;5;241m*\u001b[39m\u001b[38;5;241m*\u001b[39mkwargs)\n",
      "File \u001b[1;32m~\\AppData\\Roaming\\Python\\Python311\\site-packages\\scipy\\optimize\\_cobyla_py.py:293\u001b[0m, in \u001b[0;36m_minimize_cobyla\u001b[1;34m(fun, x0, args, constraints, rhobeg, tol, maxiter, disp, catol, callback, bounds, **unknown_options)\u001b[0m\n\u001b[0;32m    290\u001b[0m         callback(np\u001b[38;5;241m.\u001b[39mcopy(x))\n\u001b[0;32m    292\u001b[0m info \u001b[38;5;241m=\u001b[39m np\u001b[38;5;241m.\u001b[39mzeros(\u001b[38;5;241m4\u001b[39m, np\u001b[38;5;241m.\u001b[39mfloat64)\n\u001b[1;32m--> 293\u001b[0m xopt, info \u001b[38;5;241m=\u001b[39m cobyla\u001b[38;5;241m.\u001b[39mminimize(calcfc, m\u001b[38;5;241m=\u001b[39mm, x\u001b[38;5;241m=\u001b[39mnp\u001b[38;5;241m.\u001b[39mcopy(x0), rhobeg\u001b[38;5;241m=\u001b[39mrhobeg,\n\u001b[0;32m    294\u001b[0m                               rhoend\u001b[38;5;241m=\u001b[39mrhoend, iprint\u001b[38;5;241m=\u001b[39miprint, maxfun\u001b[38;5;241m=\u001b[39mmaxfun,\n\u001b[0;32m    295\u001b[0m                               dinfo\u001b[38;5;241m=\u001b[39minfo, callback\u001b[38;5;241m=\u001b[39mwrapped_callback)\n\u001b[0;32m    297\u001b[0m \u001b[38;5;28;01mif\u001b[39;00m info[\u001b[38;5;241m3\u001b[39m] \u001b[38;5;241m>\u001b[39m catol:\n\u001b[0;32m    298\u001b[0m     \u001b[38;5;66;03m# Check constraint violation\u001b[39;00m\n\u001b[0;32m    299\u001b[0m     info[\u001b[38;5;241m0\u001b[39m] \u001b[38;5;241m=\u001b[39m \u001b[38;5;241m4\u001b[39m\n",
      "File \u001b[1;32m~\\AppData\\Roaming\\Python\\Python311\\site-packages\\scipy\\optimize\\_cobyla_py.py:281\u001b[0m, in \u001b[0;36m_minimize_cobyla.<locals>.calcfc\u001b[1;34m(x, con)\u001b[0m\n\u001b[0;32m    280\u001b[0m \u001b[38;5;28;01mdef\u001b[39;00m \u001b[38;5;21mcalcfc\u001b[39m(x, con):\n\u001b[1;32m--> 281\u001b[0m     f \u001b[38;5;241m=\u001b[39m sf\u001b[38;5;241m.\u001b[39mfun(x)\n\u001b[0;32m    282\u001b[0m     i \u001b[38;5;241m=\u001b[39m \u001b[38;5;241m0\u001b[39m\n\u001b[0;32m    283\u001b[0m     \u001b[38;5;28;01mfor\u001b[39;00m size, c \u001b[38;5;129;01min\u001b[39;00m izip(cons_lengths, constraints):\n",
      "File \u001b[1;32m~\\AppData\\Roaming\\Python\\Python311\\site-packages\\scipy\\optimize\\_differentiable_functions.py:278\u001b[0m, in \u001b[0;36mScalarFunction.fun\u001b[1;34m(self, x)\u001b[0m\n\u001b[0;32m    276\u001b[0m \u001b[38;5;28;01mif\u001b[39;00m \u001b[38;5;129;01mnot\u001b[39;00m np\u001b[38;5;241m.\u001b[39marray_equal(x, \u001b[38;5;28mself\u001b[39m\u001b[38;5;241m.\u001b[39mx):\n\u001b[0;32m    277\u001b[0m     \u001b[38;5;28mself\u001b[39m\u001b[38;5;241m.\u001b[39m_update_x_impl(x)\n\u001b[1;32m--> 278\u001b[0m \u001b[38;5;28mself\u001b[39m\u001b[38;5;241m.\u001b[39m_update_fun()\n\u001b[0;32m    279\u001b[0m \u001b[38;5;28;01mreturn\u001b[39;00m \u001b[38;5;28mself\u001b[39m\u001b[38;5;241m.\u001b[39mf\n",
      "File \u001b[1;32m~\\AppData\\Roaming\\Python\\Python311\\site-packages\\scipy\\optimize\\_differentiable_functions.py:262\u001b[0m, in \u001b[0;36mScalarFunction._update_fun\u001b[1;34m(self)\u001b[0m\n\u001b[0;32m    260\u001b[0m \u001b[38;5;28;01mdef\u001b[39;00m \u001b[38;5;21m_update_fun\u001b[39m(\u001b[38;5;28mself\u001b[39m):\n\u001b[0;32m    261\u001b[0m     \u001b[38;5;28;01mif\u001b[39;00m \u001b[38;5;129;01mnot\u001b[39;00m \u001b[38;5;28mself\u001b[39m\u001b[38;5;241m.\u001b[39mf_updated:\n\u001b[1;32m--> 262\u001b[0m         \u001b[38;5;28mself\u001b[39m\u001b[38;5;241m.\u001b[39m_update_fun_impl()\n\u001b[0;32m    263\u001b[0m         \u001b[38;5;28mself\u001b[39m\u001b[38;5;241m.\u001b[39mf_updated \u001b[38;5;241m=\u001b[39m \u001b[38;5;28;01mTrue\u001b[39;00m\n",
      "File \u001b[1;32m~\\AppData\\Roaming\\Python\\Python311\\site-packages\\scipy\\optimize\\_differentiable_functions.py:163\u001b[0m, in \u001b[0;36mScalarFunction.__init__.<locals>.update_fun\u001b[1;34m()\u001b[0m\n\u001b[0;32m    162\u001b[0m \u001b[38;5;28;01mdef\u001b[39;00m \u001b[38;5;21mupdate_fun\u001b[39m():\n\u001b[1;32m--> 163\u001b[0m     \u001b[38;5;28mself\u001b[39m\u001b[38;5;241m.\u001b[39mf \u001b[38;5;241m=\u001b[39m fun_wrapped(\u001b[38;5;28mself\u001b[39m\u001b[38;5;241m.\u001b[39mx)\n",
      "File \u001b[1;32m~\\AppData\\Roaming\\Python\\Python311\\site-packages\\scipy\\optimize\\_differentiable_functions.py:145\u001b[0m, in \u001b[0;36mScalarFunction.__init__.<locals>.fun_wrapped\u001b[1;34m(x)\u001b[0m\n\u001b[0;32m    141\u001b[0m \u001b[38;5;28mself\u001b[39m\u001b[38;5;241m.\u001b[39mnfev \u001b[38;5;241m+\u001b[39m\u001b[38;5;241m=\u001b[39m \u001b[38;5;241m1\u001b[39m\n\u001b[0;32m    142\u001b[0m \u001b[38;5;66;03m# Send a copy because the user may overwrite it.\u001b[39;00m\n\u001b[0;32m    143\u001b[0m \u001b[38;5;66;03m# Overwriting results in undefined behaviour because\u001b[39;00m\n\u001b[0;32m    144\u001b[0m \u001b[38;5;66;03m# fun(self.x) will change self.x, with the two no longer linked.\u001b[39;00m\n\u001b[1;32m--> 145\u001b[0m fx \u001b[38;5;241m=\u001b[39m fun(np\u001b[38;5;241m.\u001b[39mcopy(x), \u001b[38;5;241m*\u001b[39margs)\n\u001b[0;32m    146\u001b[0m \u001b[38;5;66;03m# Make sure the function returns a true scalar\u001b[39;00m\n\u001b[0;32m    147\u001b[0m \u001b[38;5;28;01mif\u001b[39;00m \u001b[38;5;129;01mnot\u001b[39;00m np\u001b[38;5;241m.\u001b[39misscalar(fx):\n",
      "Cell \u001b[1;32mIn[166], line 21\u001b[0m, in \u001b[0;36mcost_func\u001b[1;34m(params, ansatz, L, m, c, estimator)\u001b[0m\n\u001b[0;32m     18\u001b[0m qc \u001b[38;5;241m=\u001b[39m ansatz(E_total, L, m, c)  \u001b[38;5;66;03m# Generate the quantum circuit based on this E_total\u001b[39;00m\n\u001b[0;32m     20\u001b[0m \u001b[38;5;66;03m# Step 2: Estimate the energy using the updated quantum circuit\u001b[39;00m\n\u001b[1;32m---> 21\u001b[0m energy \u001b[38;5;241m=\u001b[39m Kinetic_Energy(L, qc, m) \u001b[38;5;241m+\u001b[39m Interaction_Energy(qc, L, c) \u001b[38;5;241m+\u001b[39m Potential_Energy(qc, L, c, m, w)\n\u001b[0;32m     23\u001b[0m \u001b[38;5;66;03m# Step 3: Update E_total with the new energy (feedback loop)\u001b[39;00m\n\u001b[0;32m     24\u001b[0m params[\u001b[38;5;241m0\u001b[39m] \u001b[38;5;241m=\u001b[39m energy  \u001b[38;5;66;03m# Update params with the new E_total value\u001b[39;00m\n",
      "Cell \u001b[1;32mIn[110], line 40\u001b[0m, in \u001b[0;36mInteraction_Energy\u001b[1;34m(circuit, L, c)\u001b[0m\n\u001b[0;32m     37\u001b[0m estimator \u001b[38;5;241m=\u001b[39m Estimator(backend, options)\n\u001b[0;32m     39\u001b[0m \u001b[38;5;66;03m# Run the job\u001b[39;00m\n\u001b[1;32m---> 40\u001b[0m job \u001b[38;5;241m=\u001b[39m estimator\u001b[38;5;241m.\u001b[39mrun([(isa_circuit, operators_transpiled_layout)])\n\u001b[0;32m     41\u001b[0m \u001b[38;5;28mprint\u001b[39m(job\u001b[38;5;241m.\u001b[39mjob_id())\n\u001b[0;32m     43\u001b[0m \u001b[38;5;66;03m# Get the result\u001b[39;00m\n",
      "File \u001b[1;32m~\\anaconda3\\envs\\Q_projects\\Lib\\site-packages\\qiskit_ibm_runtime\\estimator.py:160\u001b[0m, in \u001b[0;36mEstimatorV2.run\u001b[1;34m(self, pubs, precision)\u001b[0m\n\u001b[0;32m    158\u001b[0m coerced_pubs \u001b[38;5;241m=\u001b[39m [EstimatorPub\u001b[38;5;241m.\u001b[39mcoerce(pub, precision) \u001b[38;5;28;01mfor\u001b[39;00m pub \u001b[38;5;129;01min\u001b[39;00m pubs]\n\u001b[0;32m    159\u001b[0m validate_estimator_pubs(coerced_pubs)\n\u001b[1;32m--> 160\u001b[0m \u001b[38;5;28;01mreturn\u001b[39;00m \u001b[38;5;28mself\u001b[39m\u001b[38;5;241m.\u001b[39m_run(coerced_pubs)\n",
      "File \u001b[1;32m~\\anaconda3\\envs\\Q_projects\\Lib\\site-packages\\qiskit_ibm_runtime\\base_primitive.py:209\u001b[0m, in \u001b[0;36mBasePrimitiveV2._run\u001b[1;34m(self, pubs)\u001b[0m\n\u001b[0;32m    206\u001b[0m         runtime_options[\u001b[38;5;124m\"\u001b[39m\u001b[38;5;124minstance\u001b[39m\u001b[38;5;124m\"\u001b[39m] \u001b[38;5;241m=\u001b[39m \u001b[38;5;28mself\u001b[39m\u001b[38;5;241m.\u001b[39m_backend\u001b[38;5;241m.\u001b[39m_instance\n\u001b[0;32m    208\u001b[0m \u001b[38;5;28;01mif\u001b[39;00m \u001b[38;5;28misinstance\u001b[39m(\u001b[38;5;28mself\u001b[39m\u001b[38;5;241m.\u001b[39m_service, QiskitRuntimeService):\n\u001b[1;32m--> 209\u001b[0m     \u001b[38;5;28;01mreturn\u001b[39;00m \u001b[38;5;28mself\u001b[39m\u001b[38;5;241m.\u001b[39m_service\u001b[38;5;241m.\u001b[39m_run(\n\u001b[0;32m    210\u001b[0m         program_id\u001b[38;5;241m=\u001b[39m\u001b[38;5;28mself\u001b[39m\u001b[38;5;241m.\u001b[39m_program_id(),\n\u001b[0;32m    211\u001b[0m         options\u001b[38;5;241m=\u001b[39mruntime_options,\n\u001b[0;32m    212\u001b[0m         inputs\u001b[38;5;241m=\u001b[39mprimitive_inputs,\n\u001b[0;32m    213\u001b[0m         callback\u001b[38;5;241m=\u001b[39moptions_dict\u001b[38;5;241m.\u001b[39mget(\u001b[38;5;124m\"\u001b[39m\u001b[38;5;124menvironment\u001b[39m\u001b[38;5;124m\"\u001b[39m, {})\u001b[38;5;241m.\u001b[39mget(\u001b[38;5;124m\"\u001b[39m\u001b[38;5;124mcallback\u001b[39m\u001b[38;5;124m\"\u001b[39m, \u001b[38;5;28;01mNone\u001b[39;00m),\n\u001b[0;32m    214\u001b[0m         result_decoder\u001b[38;5;241m=\u001b[39mDEFAULT_DECODERS\u001b[38;5;241m.\u001b[39mget(\u001b[38;5;28mself\u001b[39m\u001b[38;5;241m.\u001b[39m_program_id()),\n\u001b[0;32m    215\u001b[0m     )\n\u001b[0;32m    217\u001b[0m \u001b[38;5;28;01mreturn\u001b[39;00m \u001b[38;5;28mself\u001b[39m\u001b[38;5;241m.\u001b[39m_service\u001b[38;5;241m.\u001b[39m_run(\n\u001b[0;32m    218\u001b[0m     program_id\u001b[38;5;241m=\u001b[39m\u001b[38;5;28mself\u001b[39m\u001b[38;5;241m.\u001b[39m_program_id(),  \u001b[38;5;66;03m# type: ignore[arg-type]\u001b[39;00m\n\u001b[0;32m    219\u001b[0m     options\u001b[38;5;241m=\u001b[39mruntime_options,\n\u001b[0;32m    220\u001b[0m     inputs\u001b[38;5;241m=\u001b[39mprimitive_inputs,\n\u001b[0;32m    221\u001b[0m )\n",
      "File \u001b[1;32m~\\anaconda3\\envs\\Q_projects\\Lib\\site-packages\\qiskit_ibm_runtime\\qiskit_runtime_service.py:924\u001b[0m, in \u001b[0;36mQiskitRuntimeService._run\u001b[1;34m(self, program_id, inputs, options, callback, result_decoder, session_id, start_session)\u001b[0m\n\u001b[0;32m    922\u001b[0m     \u001b[38;5;28;01mif\u001b[39;00m ex\u001b[38;5;241m.\u001b[39mstatus_code \u001b[38;5;241m==\u001b[39m \u001b[38;5;241m404\u001b[39m:\n\u001b[0;32m    923\u001b[0m         \u001b[38;5;28;01mraise\u001b[39;00m RuntimeProgramNotFound(\u001b[38;5;124mf\u001b[39m\u001b[38;5;124m\"\u001b[39m\u001b[38;5;124mProgram not found: \u001b[39m\u001b[38;5;132;01m{\u001b[39;00mex\u001b[38;5;241m.\u001b[39mmessage\u001b[38;5;132;01m}\u001b[39;00m\u001b[38;5;124m\"\u001b[39m) \u001b[38;5;28;01mfrom\u001b[39;00m \u001b[38;5;28;01mNone\u001b[39;00m\n\u001b[1;32m--> 924\u001b[0m     \u001b[38;5;28;01mraise\u001b[39;00m IBMRuntimeError(\u001b[38;5;124mf\u001b[39m\u001b[38;5;124m\"\u001b[39m\u001b[38;5;124mFailed to run program: \u001b[39m\u001b[38;5;132;01m{\u001b[39;00mex\u001b[38;5;132;01m}\u001b[39;00m\u001b[38;5;124m\"\u001b[39m) \u001b[38;5;28;01mfrom\u001b[39;00m \u001b[38;5;28;01mNone\u001b[39;00m\n\u001b[0;32m    926\u001b[0m \u001b[38;5;28;01mif\u001b[39;00m response[\u001b[38;5;124m\"\u001b[39m\u001b[38;5;124mbackend\u001b[39m\u001b[38;5;124m\"\u001b[39m] \u001b[38;5;129;01mand\u001b[39;00m response[\u001b[38;5;124m\"\u001b[39m\u001b[38;5;124mbackend\u001b[39m\u001b[38;5;124m\"\u001b[39m] \u001b[38;5;241m!=\u001b[39m qrt_options\u001b[38;5;241m.\u001b[39mget_backend_name():\n\u001b[0;32m    927\u001b[0m     backend \u001b[38;5;241m=\u001b[39m \u001b[38;5;28mself\u001b[39m\u001b[38;5;241m.\u001b[39mbackend(name\u001b[38;5;241m=\u001b[39mresponse[\u001b[38;5;124m\"\u001b[39m\u001b[38;5;124mbackend\u001b[39m\u001b[38;5;124m\"\u001b[39m], instance\u001b[38;5;241m=\u001b[39mhgp_name)\n",
      "\u001b[1;31mIBMRuntimeError\u001b[0m: 'Failed to run program: \\'403 Client Error: Forbidden for url: https://api.quantum.ibm.com/runtime/jobs. {\"errors\":[{\"message\":\"Job create exceeds open plan job usage limits\",\"code\":4317,\"solution\":\"Please wait until the beginning of next month to submit more jobs when your quota will reset.\",\"more_info\":\"https://docs.quantum-computing.ibm.com/errors\"}]}\\''"
     ]
    }
   ],
   "source": [
    "from scipy.optimize import minimize\n",
    "import numpy as np\n",
    "from qiskit_ibm_runtime import EstimatorV2 as Estimator\n",
    "from qiskit_ibm_runtime import Session, QiskitRuntimeService\n",
    "# Initial parameter (E_total as the first parameter)\n",
    "x0 = np.array([initial_energy])  # Initial guess for E_total (you can change this value)\n",
    "\n",
    "backend = service.backend('ibm_brisbane')\n",
    "\n",
    "with Session(service = service, backend=backend) as session:\n",
    "    estimator = Estimator(backend)\n",
    "    estimator.options.default_shots = 1000\n",
    "    # Run the optimization using COBYLA\n",
    "    result = minimize(\n",
    "        cost_func,\n",
    "        x0,\n",
    "        args=(ansatz, L, m, c, estimator),  # Pass ansatz and other args\n",
    "        method=\"COBYLA\"\n",
    "    )\n",
    "\n",
    "# The result will hold the optimized energy and wave function\n",
    "final_energy = result.fun  # The minimum energy found\n",
    "final_params = result.x  # Final values of the parameters (including the optimized E_total)\n"
   ]
  },
  {
   "cell_type": "code",
   "execution_count": null,
   "metadata": {
    "id": "gngiD_7U8FIW"
   },
   "outputs": [],
   "source": [
    "print(final_energy)"
   ]
  },
  {
   "cell_type": "markdown",
   "metadata": {
    "id": "qH7IC6Yn-JVH"
   },
   "source": [
    "Till now we have calculated E_total using the VQE"
   ]
  },
  {
   "cell_type": "code",
   "execution_count": null,
   "metadata": {
    "id": "_lsaU-1_RA8A"
   },
   "outputs": [],
   "source": [
    "mu = m/2"
   ]
  },
  {
   "cell_type": "code",
   "execution_count": null,
   "metadata": {
    "id": "U1RoTPhF-Qbq"
   },
   "outputs": [],
   "source": [
    "import numpy as np\n",
    "from scipy.special import gamma\n",
    "\n",
    "def calculate_relative_energy(E_total, omega):\n",
    "    # Center of mass energy\n",
    "    E_CM = 0.5 * omega  # Ground state energy of CM motion\n",
    "    # Relative energy\n",
    "    E_rel = E_total - E_CM\n",
    "    return E_rel\n",
    "\n",
    "def calculate_relative_momentum(E_rel, mu):\n",
    "    # Relative momentum p\n",
    "    p = np.sqrt(2 * mu * E_rel)\n",
    "    return p\n",
    "\n",
    "def busch_phase_shift(p, mu, omega):\n",
    "    # Compute p * cot(δ) using the Busch formula\n",
    "    term1 = gamma(0.25 - (p**2 / (4 * mu * omega)))\n",
    "    term2 = gamma(0.75 - (p**2 / (4 * mu * omega)))\n",
    "    p_cot_delta = (p**2 / (2 * mu * omega)) * (term1 / term2)\n",
    "    return p_cot_delta\n",
    "\n",
    "# Example parameters\n",
    "\n",
    "# Step 1: Calculate relative energy\n",
    "E_rel = calculate_relative_energy(final_energy, w)\n",
    "\n",
    "# Step 2: Calculate relative momentum\n",
    "p = calculate_relative_momentum(E_rel, mu)\n",
    "\n",
    "# Step 3: Calculate phase shift using Busch formula\n",
    "p_cot_delta = busch_phase_shift(p, mu, w)\n",
    "print(f\"p * cot(δ): {p_cot_delta}\")\n"
   ]
  },
  {
   "cell_type": "code",
   "execution_count": null,
   "metadata": {
    "id": "NmQxZpgxRZcS"
   },
   "outputs": [],
   "source": [
    "# Calculating Delta\n",
    "\n",
    "deltas = []\n",
    "delta = np.arctan(1 / (p_cot_delta / p))\n",
    "print(f\"Phase shift δ: {delta}\")\n",
    "\n",
    "deltas.append(delta)"
   ]
  }
 ],
 "metadata": {
  "colab": {
   "provenance": []
  },
  "kernelspec": {
   "display_name": "Python 3 (ipykernel)",
   "language": "python",
   "name": "python3"
  },
  "language_info": {
   "codemirror_mode": {
    "name": "ipython",
    "version": 3
   },
   "file_extension": ".py",
   "mimetype": "text/x-python",
   "name": "python",
   "nbconvert_exporter": "python",
   "pygments_lexer": "ipython3",
   "version": "3.11.10"
  }
 },
 "nbformat": 4,
 "nbformat_minor": 4
}
